{
 "cells": [
  {
   "cell_type": "code",
   "execution_count": 2,
   "metadata": {
    "collapsed": true
   },
   "outputs": [],
   "source": [
    "# _*_ coding:utf-8 _*_\n",
    "\n",
    "import pandas as pd\n",
    "import numpy as np\n",
    "import tensorflow as tf\n",
    "import matplotlib.pyplot as plt\n",
    "\n",
    "% matplotlib inline"
   ]
  },
  {
   "cell_type": "code",
   "execution_count": 3,
   "metadata": {},
   "outputs": [
    {
     "data": {
      "text/plain": [
       "<tf.Tensor 'random_normal:0' shape=(2, 20) dtype=float32>"
      ]
     },
     "execution_count": 3,
     "metadata": {},
     "output_type": "execute_result"
    }
   ],
   "source": [
    "a = tf.random_normal([2, 20])\n",
    "a"
   ]
  },
  {
   "cell_type": "code",
   "execution_count": 5,
   "metadata": {},
   "outputs": [
    {
     "name": "stdout",
     "output_type": "stream",
     "text": [
      "<tensorflow.python.client.session.Session object at 0x7fdc925b39b0>\n"
     ]
    }
   ],
   "source": [
    "sess = tf.Session()\n",
    "print(sess)\n"
   ]
  },
  {
   "cell_type": "code",
   "execution_count": 7,
   "metadata": {},
   "outputs": [
    {
     "name": "stdout",
     "output_type": "stream",
     "text": [
      "[[-1.08724403 -0.12979269  0.66680449  1.1009891  -0.03051108 -0.93466723\n   0.01069562 -0.3759734  -0.02634236 -1.4783504   0.56878006 -0.17119442\n   1.85581505 -1.11360455 -1.85458612  1.49261904 -0.15316053  0.27908635\n   1.44395316 -0.28452712]\n [-1.67108643 -2.26796293  0.12193605 -0.03572467  0.01690437  0.31217891\n   1.34509385  0.54344136 -3.59192824 -1.17135453 -0.42000794  0.60085535\n   1.21586108 -0.08341652 -0.51604789 -0.77320492 -0.73753369  1.18587255\n   0.4313288   0.86385202]]\n"
     ]
    }
   ],
   "source": [
    "out = sess.run(a)\n",
    "print(out)"
   ]
  },
  {
   "cell_type": "code",
   "execution_count": 8,
   "metadata": {},
   "outputs": [],
   "source": [
    "x, y = out"
   ]
  },
  {
   "cell_type": "code",
   "execution_count": 9,
   "metadata": {},
   "outputs": [
    {
     "data": {
      "image/png": "[encoded data removed]",
      "text/plain": [
       "<matplotlib.figure.Figure at 0x7fdc9255b048>"
      ]
     },
     "metadata": {},
     "output_type": "display_data"
    }
   ],
   "source": [
    "plt.scatter(x, y)\n",
    "plt.show()"
   ]
  },
  {
   "cell_type": "code",
   "execution_count": 14,
   "metadata": {},
   "outputs": [],
   "source": [
    "a = tf.constant(5, name='input_a')\n",
    "b = tf.constant(3, name='input_b')\n",
    "c = tf.multiply(a, b, name='mul_c')\n",
    "d = tf.add(a, b, name='add_d')\n",
    "e = tf.add(c, d, name='add_e')\n",
    "\n",
    "# Picture\n",
    "# a = 5, b = 3;\n",
    "# c = a * b = 15;\n",
    "# d = a + b = 8;\n",
    "# e = c + d = 23"
   ]
  },
  {
   "cell_type": "code",
   "execution_count": 12,
   "metadata": {},
   "outputs": [
    {
     "data": {
      "text/plain": [
       "23"
      ]
     },
     "execution_count": 12,
     "metadata": {},
     "output_type": "execute_result"
    }
   ],
   "source": [
    "sess = tf.Session()\n",
    "sess.run(e)"
   ]
  },
  {
   "cell_type": "code",
   "execution_count": 21,
   "metadata": {},
   "outputs": [],
   "source": [
    "# saver = tf.train.Saver(write_version=tf.train.SaverDef.V1)\n",
    "# saver_path = saver.save(sess, 'save_tf/model.ckpt')"
   ]
  },
  {
   "cell_type": "code",
   "execution_count": 22,
   "metadata": {},
   "outputs": [],
   "source": [
    "sess.close()"
   ]
  },
  {
   "cell_type": "code",
   "execution_count": 24,
   "metadata": {},
   "outputs": [],
   "source": [
    "a1 = tf.constant([5, 3], name='input_a1')\n",
    "b1 = tf.reduce_prod(a, name='prod_b1')\n",
    "c1 = tf.reduce_sum(a, name='sum_c')\n",
    "d1 = tf.add(b1, c1, name='add_d1')\n"
   ]
  },
  {
   "cell_type": "code",
   "execution_count": 28,
   "metadata": {},
   "outputs": [],
   "source": [
    "t_0 = np.array(50, dtype=np.int32)\n",
    "t_1 = np.array([b'apple', b'peach', b'grape'])\n",
    "t_2 = np.array([[True, False], [False, False]], dtype=np.bool)\n",
    "t_3 = np.array([[[0, 0], [1, 2]],\n",
    "                [[2, 3], [3, 4]]], \n",
    "               dtype=np.int64)"
   ]
  },
  {
   "cell_type": "code",
   "execution_count": 29,
   "metadata": {},
   "outputs": [],
   "source": [
    "# p_51"
   ]
  },
  {
   "cell_type": "code",
   "execution_count": null,
   "metadata": {},
   "outputs": [],
   "source": []
  }
 ],
 "metadata": {
  "kernelspec": {
   "display_name": "Python 2",
   "language": "python",
   "name": "python2"
  },
  "language_info": {
   "codemirror_mode": {
    "name": "ipython",
    "version": 2
   },
   "file_extension": ".py",
   "mimetype": "text/x-python",
   "name": "python",
   "nbconvert_exporter": "python",
   "pygments_lexer": "ipython2",
   "version": "2.7.6"
  }
 },
 "nbformat": 4,
 "nbformat_minor": 0
}
