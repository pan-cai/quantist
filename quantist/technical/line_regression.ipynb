{
 "cells": [
  {
   "cell_type": "code",
   "execution_count": 1,
   "metadata": {
    "collapsed": true
   },
   "outputs": [
    {
     "name": "stdout",
     "output_type": "stream",
     "text": [
      "[ 0.5  0.5]\n"
     ]
    }
   ],
   "source": [
    "#Ordinary Least Squares\n",
    "from sklearn import linear_model\n",
    "reg = linear_model.LinearRegression()\n",
    "x = [[0,0],[1,1],[2,2]]\n",
    "y = [0,1,2]\n",
    "data = reg.fit(x,y)\n",
    "print(reg.coef_)"
   ]
  },
  {
   "cell_type": "code",
   "execution_count": 11,
   "metadata": {},
   "outputs": [
    {
     "name": "stdout",
     "output_type": "stream",
     "text": [
      "[ 0.34545455  0.34545455]\n0.136363636364\n---------------\n0.1\n"
     ]
    }
   ],
   "source": [
    "#Ridge Regression\n",
    "from sklearn import linear_model\n",
    "reg = linear_model.Ridge(alpha = 0.5)\n",
    "x = [[0,0],[0,0],[1,1]]\n",
    "y = [0,0.1,1]\n",
    "reg.fit(x, y)\n",
    "print(reg.coef_)\n",
    "print(reg.intercept_)\n",
    "\n",
    "print(\"---------------\")\n",
    "#Setting the regularization parameter: generalized Cross-Validation\n",
    "reg = linear_model.RidgeCV(alphas=[0.1,1,10])\n",
    "reg.fit(x,y)\n",
    "print(reg.alpha_)"
   ]
  },
  {
   "cell_type": "code",
   "execution_count": 17,
   "metadata": {},
   "outputs": [
    {
     "name": "stdout",
     "output_type": "stream",
     "text": [
      "[ 0.8]\n[ 0.71715729  0.        ]\n"
     ]
    }
   ],
   "source": [
    "# Lasso\n",
    "reg = linear_model.Lasso(alpha=0.1)\n",
    "x = [[0,0],[1,1]]\n",
    "y = [0,1]\n",
    "reg.fit(x,y)\n",
    "z = [[1,1]]\n",
    "print(reg.predict(z))\n",
    "\n",
    "##LARS Lasso\n",
    "reg2 = linear_model.LassoLars(alpha=0.1)\n",
    "x2 = [[0,0],[1,1]]\n",
    "y2 = [0,1]\n",
    "reg2.fit(x2,y2)\n",
    "print(reg2.coef_)"
   ]
  },
  {
   "cell_type": "code",
   "execution_count": 14,
   "metadata": {},
   "outputs": [
    {
     "name": "stdout",
     "output_type": "stream",
     "text": [
      "Lasso(alpha=0.1, copy_X=True, fit_intercept=True, max_iter=1000,\n   normalize=False, positive=False, precompute=False, random_state=None,\n   selection='cyclic', tol=0.0001, warm_start=False)\nr^2 on test data : 0.385982\nElasticNet(alpha=0.1, copy_X=True, fit_intercept=True, l1_ratio=0.7,\n      max_iter=1000, normalize=False, positive=False, precompute=False,\n      random_state=None, selection='cyclic', tol=0.0001, warm_start=False)\nr^2 on test data : 0.240498\n"
     ]
    },
    {
     "data": {
      "image/png": "[encoded data removed]",
      "text/plain": [
       "<matplotlib.figure.Figure at 0x7f6578120b00>"
      ]
     },
     "metadata": {},
     "output_type": "display_data"
    }
   ],
   "source": [
    "import numpy as np\n",
    "import matplotlib.pyplot as plt\n",
    "\n",
    "from sklearn.metrics import r2_score\n",
    "\n",
    "# #############################################################################\n",
    "# Generate some sparse data to play with\n",
    "np.random.seed(42)\n",
    "\n",
    "n_samples, n_features = 50, 200\n",
    "X = np.random.randn(n_samples, n_features)\n",
    "coef = 3 * np.random.randn(n_features)\n",
    "inds = np.arange(n_features)\n",
    "np.random.shuffle(inds)\n",
    "coef[inds[10:]] = 0  # sparsify coef\n",
    "y = np.dot(X, coef)\n",
    "\n",
    "# add noise\n",
    "y += 0.01 * np.random.normal(size=n_samples)\n",
    "\n",
    "# Split data in train set and test set\n",
    "n_samples = X.shape[0]\n",
    "X_train, y_train = X[:n_samples // 2], y[:n_samples // 2]\n",
    "X_test, y_test = X[n_samples // 2:], y[n_samples // 2:]\n",
    "\n",
    "# #############################################################################\n",
    "# Lasso\n",
    "from sklearn.linear_model import Lasso\n",
    "\n",
    "alpha = 0.1\n",
    "lasso = Lasso(alpha=alpha)\n",
    "\n",
    "y_pred_lasso = lasso.fit(X_train, y_train).predict(X_test)\n",
    "r2_score_lasso = r2_score(y_test, y_pred_lasso)\n",
    "print(lasso)\n",
    "print(\"r^2 on test data : %f\" % r2_score_lasso)\n",
    "\n",
    "# #############################################################################\n",
    "# ElasticNet\n",
    "from sklearn.linear_model import ElasticNet\n",
    "\n",
    "enet = ElasticNet(alpha=alpha, l1_ratio=0.7)\n",
    "\n",
    "y_pred_enet = enet.fit(X_train, y_train).predict(X_test)\n",
    "r2_score_enet = r2_score(y_test, y_pred_enet)\n",
    "print(enet)\n",
    "print(\"r^2 on test data : %f\" % r2_score_enet)\n",
    "\n",
    "plt.plot(enet.coef_, color='lightgreen', linewidth=2,\n",
    "         label='Elastic net coefficients')\n",
    "plt.plot(lasso.coef_, color='gold', linewidth=2,\n",
    "         label='Lasso coefficients')\n",
    "plt.plot(coef, '--', color='navy', label='original coefficients')\n",
    "plt.legend(loc='best')\n",
    "plt.title(\"Lasso R^2: %f, Elastic Net R^2: %f\"\n",
    "          % (r2_score_lasso, r2_score_enet))\n",
    "plt.show()"
   ]
  },
  {
   "cell_type": "code",
   "execution_count": 15,
   "metadata": {},
   "outputs": [
    {
     "name": "stderr",
     "output_type": "stream",
     "text": [
      "/home/liu/py3venv/lib/python3.5/site-packages/ipykernel_launcher.py:41: DeprecationWarning: object of type <class 'float'> cannot be safely interpreted as an integer.\n"
     ]
    },
    {
     "data": {
      "image/png": "[encoded data removed]",
      "text/plain": [
       "<matplotlib.figure.Figure at 0x7f6548ad5fd0>"
      ]
     },
     "metadata": {},
     "output_type": "display_data"
    }
   ],
   "source": [
    "import numpy as np\n",
    "from scipy import sparse\n",
    "from scipy import ndimage\n",
    "from sklearn.linear_model import Lasso\n",
    "from sklearn.linear_model import Ridge\n",
    "import matplotlib.pyplot as plt\n",
    "\n",
    "\n",
    "def _weights(x, dx=1, orig=0):\n",
    "    x = np.ravel(x)\n",
    "    floor_x = np.floor((x - orig) / dx)\n",
    "    alpha = (x - orig - floor_x * dx) / dx\n",
    "    return np.hstack((floor_x, floor_x + 1)), np.hstack((1 - alpha, alpha))\n",
    "\n",
    "\n",
    "def _generate_center_coordinates(l_x):\n",
    "    X, Y = np.mgrid[:l_x, :l_x].astype(np.float64)\n",
    "    center = l_x / 2.\n",
    "    X += 0.5 - center\n",
    "    Y += 0.5 - center\n",
    "    return X, Y\n",
    "\n",
    "\n",
    "def build_projection_operator(l_x, n_dir):\n",
    "    \"\"\" Compute the tomography design matrix.\n",
    "\n",
    "    Parameters\n",
    "    ----------\n",
    "\n",
    "    l_x : int\n",
    "        linear size of image array\n",
    "\n",
    "    n_dir : int\n",
    "        number of angles at which projections are acquired.\n",
    "\n",
    "    Returns\n",
    "    -------\n",
    "    p : sparse matrix of shape (n_dir l_x, l_x**2)\n",
    "    \"\"\"\n",
    "    X, Y = _generate_center_coordinates(l_x)\n",
    "    angles = np.linspace(0, np.pi, n_dir, endpoint=False)\n",
    "    data_inds, weights, camera_inds = [], [], []\n",
    "    data_unravel_indices = np.arange(l_x ** 2)\n",
    "    data_unravel_indices = np.hstack((data_unravel_indices,\n",
    "                                      data_unravel_indices))\n",
    "    for i, angle in enumerate(angles):\n",
    "        Xrot = np.cos(angle) * X - np.sin(angle) * Y\n",
    "        inds, w = _weights(Xrot, dx=1, orig=X.min())\n",
    "        mask = np.logical_and(inds >= 0, inds < l_x)\n",
    "        weights += list(w[mask])\n",
    "        camera_inds += list(inds[mask] + i * l_x)\n",
    "        data_inds += list(data_unravel_indices[mask])\n",
    "    proj_operator = sparse.coo_matrix((weights, (camera_inds, data_inds)))\n",
    "    return proj_operator\n",
    "\n",
    "\n",
    "def generate_synthetic_data():\n",
    "    \"\"\" Synthetic binary data \"\"\"\n",
    "    rs = np.random.RandomState(0)\n",
    "    n_pts = 36\n",
    "    x, y = np.ogrid[0:l, 0:l]\n",
    "    mask_outer = (x - l / 2.) ** 2 + (y - l / 2.) ** 2 < (l / 2.) ** 2\n",
    "    mask = np.zeros((l, l))\n",
    "    points = l * rs.rand(2, n_pts)\n",
    "    mask[(points[0]).astype(np.int), (points[1]).astype(np.int)] = 1\n",
    "    mask = ndimage.gaussian_filter(mask, sigma=l / n_pts)\n",
    "    res = np.logical_and(mask > mask.mean(), mask_outer)\n",
    "    return np.logical_xor(res, ndimage.binary_erosion(res))\n",
    "\n",
    "\n",
    "# Generate synthetic images, and projections\n",
    "l = 128\n",
    "proj_operator = build_projection_operator(l, l / 7.)\n",
    "data = generate_synthetic_data()\n",
    "proj = proj_operator * data.ravel()[:, np.newaxis]\n",
    "proj += 0.15 * np.random.randn(*proj.shape)\n",
    "\n",
    "# Reconstruction with L2 (Ridge) penalization\n",
    "rgr_ridge = Ridge(alpha=0.2)\n",
    "rgr_ridge.fit(proj_operator, proj.ravel())\n",
    "rec_l2 = rgr_ridge.coef_.reshape(l, l)\n",
    "\n",
    "# Reconstruction with L1 (Lasso) penalization\n",
    "# the best value of alpha was determined using cross validation\n",
    "# with LassoCV\n",
    "rgr_lasso = Lasso(alpha=0.001)\n",
    "rgr_lasso.fit(proj_operator, proj.ravel())\n",
    "rec_l1 = rgr_lasso.coef_.reshape(l, l)\n",
    "\n",
    "plt.figure(figsize=(8, 3.3))\n",
    "plt.subplot(131)\n",
    "plt.imshow(data, cmap=plt.cm.gray, interpolation='nearest')\n",
    "plt.axis('off')\n",
    "plt.title('original image')\n",
    "plt.subplot(132)\n",
    "plt.imshow(rec_l2, cmap=plt.cm.gray, interpolation='nearest')\n",
    "plt.title('L2 penalization')\n",
    "plt.axis('off')\n",
    "plt.subplot(133)\n",
    "plt.imshow(rec_l1, cmap=plt.cm.gray, interpolation='nearest')\n",
    "plt.title('L1 penalization')\n",
    "plt.axis('off')\n",
    "\n",
    "plt.subplots_adjust(hspace=0.01, wspace=0.01, top=1, bottom=0, left=0,\n",
    "                    right=1)\n",
    "\n",
    "plt.show()"
   ]
  },
  {
   "cell_type": "code",
   "execution_count": 19,
   "metadata": {},
   "outputs": [
    {
     "name": "stdout",
     "output_type": "stream",
     "text": [
      "[ 0.50000013]\n[ 0.49999993  0.49999993]\n"
     ]
    }
   ],
   "source": [
    "# Bayesian Ridge Regression\n",
    "x = [[0,0],[1,1],[2,2],[3,3]]\n",
    "y = [0,1,2,3]\n",
    "reg = linear_model.BayesianRidge()\n",
    "reg.fit(x,y)\n",
    "print(reg.predict([[1,0]]))\n",
    "print(reg.coef_)"
   ]
  },
  {
   "cell_type": "code",
   "execution_count": 21,
   "metadata": {},
   "outputs": [
    {
     "name": "stdout",
     "output_type": "stream",
     "text": [
      "[[0 1]\n [2 3]\n [4 5]]\n[[  1.   0.   1.   0.   0.   1.]\n [  1.   2.   3.   4.   6.   9.]\n [  1.   4.   5.  16.  20.  25.]]\n"
     ]
    }
   ],
   "source": [
    "# Polynomial regression: extending linear models with basis functions\n",
    "#[x1,x2] ----> [1, x1, x2, x1**2, x1*x2, x2**2]\n",
    "\n",
    "from sklearn.preprocessing import PolynomialFeatures\n",
    "x = np.arange(6).reshape(3,2)\n",
    "print(x)\n",
    "poly = PolynomialFeatures(degree=2)\n",
    "print(poly.fit_transform(x))\n"
   ]
  },
  {
   "cell_type": "code",
   "execution_count": 24,
   "metadata": {},
   "outputs": [
    {
     "data": {
      "text/plain": [
       "array([ 3., -2.,  1., -1.])"
      ]
     },
     "execution_count": 24,
     "metadata": {},
     "output_type": "execute_result"
    }
   ],
   "source": [
    "from sklearn.preprocessing import PolynomialFeatures\n",
    "from sklearn.linear_model import LinearRegression\n",
    "from sklearn.pipeline import Pipeline\n",
    "\n",
    "model = Pipeline([('poly',PolynomialFeatures(degree=3)),\n",
    "                   ('linear',LinearRegression(fit_intercept=False))])\n",
    "x = np.arange(5)\n",
    "y = 3 - 2*x + x**2 -x**3\n",
    "model = model.fit(x[:,np.newaxis],y)\n",
    "model.named_steps['linear'].coef_"
   ]
  },
  {
   "cell_type": "code",
   "execution_count": 27,
   "metadata": {},
   "outputs": [
    {
     "name": "stdout",
     "output_type": "stream",
     "text": [
      "[0 1 1 0]\n-------------------\n[[1 0 0 0]\n [1 0 1 0]\n [1 1 0 0]\n [1 1 1 1]]\n-------------------\n[0 1 1 0]\n-------------------\n1.0\n"
     ]
    }
   ],
   "source": [
    "from sklearn.linear_model import Perceptron\n",
    "from sklearn.preprocessing import PolynomialFeatures\n",
    "\n",
    "x = np.array([[0,0],[0,1],[1,0],[1,1]])\n",
    "y = x[:,0]^x[:,1]\n",
    "print(y)\n",
    "print(\"-------------------\")\n",
    "x = PolynomialFeatures(interaction_only=True).fit_transform(x).astype(int)\n",
    "print(x)\n",
    "print(\"-------------------\")\n",
    "clf = Perceptron(fit_intercept=False,max_iter=10,tol=None,\n",
    "                 shuffle=False).fit(x,y)\n",
    "print(clf.predict(x))\n",
    "print(\"-------------------\")\n",
    "print(clf.score(x,y))"
   ]
  },
  {
   "cell_type": "code",
   "execution_count": null,
   "metadata": {},
   "outputs": [],
   "source": []
  },
  {
   "cell_type": "heading",
   "metadata": {},
   "level": 1,
   "source": [
    "scikti-learn cookbook"
   ]
  },
  {
   "cell_type": "code",
   "execution_count": 14,
   "metadata": {},
   "outputs": [],
   "source": [
    "from sklearn import datasets\n",
    "boston = datasets.load_boston()\n",
    "\n",
    "from sklearn.linear_model import LinearRegression\n",
    "lr = LinearRegression()\n",
    "%matplotlib inline\n",
    "# print(boston)"
   ]
  },
  {
   "cell_type": "code",
   "execution_count": 8,
   "metadata": {},
   "outputs": [
    {
     "data": {
      "text/plain": [
       "array([ -1.07170557e-01,   4.63952195e-02,   2.08602395e-02,\n         2.68856140e+00,  -1.77957587e+01,   3.80475246e+00,\n         7.51061703e-04,  -1.47575880e+00,   3.05655038e-01,\n        -1.23293463e-02,  -9.53463555e-01,   9.39251272e-03,\n        -5.25466633e-01])"
      ]
     },
     "execution_count": 8,
     "metadata": {},
     "output_type": "execute_result"
    }
   ],
   "source": [
    "lr.fit(boston.data, boston.target)\n",
    "predictions = lr.predict(boston.data)\n",
    "# coefficients\n",
    "lr.coef_"
   ]
  },
  {
   "cell_type": "code",
   "execution_count": 10,
   "metadata": {},
   "outputs": [
    {
     "data": {
      "text/plain": [
       "array([ -1.07170557e-01,   4.63952195e-02,   2.08602395e-02,\n         2.68856140e+00,  -1.77957587e+01,   3.80475246e+00,\n         7.51061703e-04,  -1.47575880e+00,   3.05655038e-01,\n        -1.23293463e-02,  -9.53463555e-01,   9.39251272e-03,\n        -5.25466633e-01])"
      ]
     },
     "execution_count": 10,
     "metadata": {},
     "output_type": "execute_result"
    }
   ],
   "source": [
    "lr2 = LinearRegression(normalize=True)\n",
    "lr2.fit(boston.data,boston.target)\n",
    "predictions2 = lr2.predict(boston.data)\n",
    "lr2.coef_"
   ]
  },
  {
   "cell_type": "code",
   "execution_count": 16,
   "metadata": {},
   "outputs": [
    {
     "data": {
      "text/plain": [
       "5.6169386226094877e-16"
      ]
     },
     "execution_count": 16,
     "metadata": {},
     "output_type": "execute_result"
    },
    {
     "data": {
      "image/png": "[encoded data removed]",
      "text/plain": [
       "<matplotlib.figure.Figure at 0x7f711d639908>"
      ]
     },
     "metadata": {},
     "output_type": "display_data"
    }
   ],
   "source": [
    "import matplotlib.pyplot as plt\n",
    "import numpy as np\n",
    "f = plt.figure()\n",
    "ax = f.add_subplot(111)\n",
    "ax.hist(boston.target - predictions, bins=50)\n",
    "ax.set_title(\"Histogram of Residuals\")\n",
    "np.mean(boston.target - predictions)"
   ]
  },
  {
   "cell_type": "code",
   "execution_count": 17,
   "metadata": {},
   "outputs": [
    {
     "data": {
      "text/plain": [
       "((array([ -2.99573567e+00,  -2.71411028e+00,  -2.55577619e+00,\n          -2.44351800e+00,  -2.35556494e+00,  -2.28276382e+00,\n          -2.22036495e+00,  -2.16557440e+00,  -2.11660431e+00,\n          -2.07223893e+00,  -2.03161265e+00,  -1.99408648e+00,\n          -1.95917475e+00,  -1.92649942e+00,  -1.89576017e+00,\n          -1.86671438e+00,  -1.83916307e+00,  -1.81294098e+00,\n          -1.78790928e+00,  -1.76395019e+00,  -1.74096288e+00,\n          -1.71886034e+00,  -1.69756695e+00,  -1.67701655e+00,\n          -1.65715093e+00,  -1.63791855e+00,  -1.61927361e+00,\n          -1.60117517e+00,  -1.58358651e+00,  -1.56647453e+00,\n          -1.54980933e+00,  -1.53356377e+00,  -1.51771316e+00,\n          -1.50223493e+00,  -1.48710847e+00,  -1.47231481e+00,\n          -1.45783653e+00,  -1.44365756e+00,  -1.42976302e+00,\n          -1.41613915e+00,  -1.40277318e+00,  -1.38965322e+00,\n          -1.37676820e+00,  -1.36410778e+00,  -1.35166231e+00,\n          -1.33942275e+00,  -1.32738062e+00,  -1.31552796e+00,\n          -1.30385728e+00,  -1.29236155e+00,  -1.28103411e+00,\n          -1.26986869e+00,  -1.25885938e+00,  -1.24800057e+00,\n          -1.23728696e+00,  -1.22671351e+00,  -1.21627546e+00,\n          -1.20596826e+00,  -1.19578762e+00,  -1.18572943e+00,\n          -1.17578979e+00,  -1.16596497e+00,  -1.15625143e+00,\n          -1.14664578e+00,  -1.13714478e+00,  -1.12774533e+00,\n          -1.11844448e+00,  -1.10923938e+00,  -1.10012733e+00,\n          -1.09110572e+00,  -1.08217204e+00,  -1.07332392e+00,\n          -1.06455903e+00,  -1.05587517e+00,  -1.04727022e+00,\n          -1.03874212e+00,  -1.03028890e+00,  -1.02190867e+00,\n          -1.01359960e+00,  -1.00535993e+00,  -9.97187950e-01,\n          -9.89082030e-01,  -9.81040583e-01,  -9.73062080e-01,\n          -9.65145042e-01,  -9.57288042e-01,  -9.49489697e-01,\n          -9.41748672e-01,  -9.34063672e-01,  -9.26433446e-01,\n          -9.18856778e-01,  -9.11332495e-01,  -9.03859457e-01,\n          -8.96436557e-01,  -8.89062726e-01,  -8.81736921e-01,\n          -8.74458134e-01,  -8.67225385e-01,  -8.60037720e-01,\n          -8.52894215e-01,  -8.45793969e-01,  -8.38736110e-01,\n          -8.31719785e-01,  -8.24744168e-01,  -8.17808453e-01,\n          -8.10911857e-01,  -8.04053616e-01,  -7.97232988e-01,\n          -7.90449248e-01,  -7.83701690e-01,  -7.76989626e-01,\n          -7.70312386e-01,  -7.63669315e-01,  -7.57059776e-01,\n          -7.50483145e-01,  -7.43938816e-01,  -7.37426194e-01,\n          -7.30944700e-01,  -7.24493769e-01,  -7.18072847e-01,\n          -7.11681394e-01,  -7.05318883e-01,  -6.98984797e-01,\n          -6.92678632e-01,  -6.86399893e-01,  -6.80148098e-01,\n          -6.73922775e-01,  -6.67723460e-01,  -6.61549701e-01,\n          -6.55401055e-01,  -6.49277088e-01,  -6.43177375e-01,\n          -6.37101499e-01,  -6.31049052e-01,  -6.25019633e-01,\n          -6.19012852e-01,  -6.13028323e-01,  -6.07065669e-01,\n          -6.01124520e-01,  -5.95204515e-01,  -5.89305296e-01,\n          -5.83426515e-01,  -5.77567828e-01,  -5.71728899e-01,\n          -5.65909397e-01,  -5.60108998e-01,  -5.54327383e-01,\n          -5.48564239e-01,  -5.42819257e-01,  -5.37092135e-01,\n          -5.31382576e-01,  -5.25690287e-01,  -5.20014981e-01,\n          -5.14356375e-01,  -5.08714191e-01,  -5.03088156e-01,\n          -4.97477999e-01,  -4.91883457e-01,  -4.86304268e-01,\n          -4.80740175e-01,  -4.75190926e-01,  -4.69656272e-01,\n          -4.64135967e-01,  -4.58629771e-01,  -4.53137444e-01,\n          -4.47658752e-01,  -4.42193465e-01,  -4.36741354e-01,\n          -4.31302195e-01,  -4.25875766e-01,  -4.20461848e-01,\n          -4.15060226e-01,  -4.09670688e-01,  -4.04293024e-01,\n          -3.98927026e-01,  -3.93572490e-01,  -3.88229215e-01,\n          -3.82897001e-01,  -3.77575652e-01,  -3.72264973e-01,\n          -3.66964772e-01,  -3.61674861e-01,  -3.56395050e-01,\n          -3.51125157e-01,  -3.45864997e-01,  -3.40614389e-01,\n          -3.35373155e-01,  -3.30141118e-01,  -3.24918102e-01,\n          -3.19703936e-01,  -3.14498447e-01,  -3.09301466e-01,\n          -3.04112825e-01,  -2.98932359e-01,  -2.93759903e-01,\n          -2.88595295e-01,  -2.83438373e-01,  -2.78288978e-01,\n          -2.73146951e-01,  -2.68012137e-01,  -2.62884379e-01,\n          -2.57763524e-01,  -2.52649420e-01,  -2.47541915e-01,\n          -2.42440860e-01,  -2.37346105e-01,  -2.32257504e-01,\n          -2.27174909e-01,  -2.22098177e-01,  -2.17027162e-01,\n          -2.11961722e-01,  -2.06901715e-01,  -2.01846999e-01,\n          -1.96797436e-01,  -1.91752886e-01,  -1.86713211e-01,\n          -1.81678273e-01,  -1.76647937e-01,  -1.71622067e-01,\n          -1.66600528e-01,  -1.61583187e-01,  -1.56569910e-01,\n          -1.51560566e-01,  -1.46555021e-01,  -1.41553146e-01,\n          -1.36554810e-01,  -1.31559883e-01,  -1.26568236e-01,\n          -1.21579741e-01,  -1.16594270e-01,  -1.11611695e-01,\n          -1.06631890e-01,  -1.01654727e-01,  -9.66800810e-02,\n          -9.17078267e-02,  -8.67378386e-02,  -8.17699921e-02,\n          -7.68041629e-02,  -7.18402269e-02,  -6.68780605e-02,\n          -6.19175402e-02,  -5.69585432e-02,  -5.20009464e-02,\n          -4.70446274e-02,  -4.20894637e-02,  -3.71353333e-02,\n          -3.21821142e-02,  -2.72296845e-02,  -2.22779226e-02,\n          -1.73267069e-02,  -1.23759159e-02,  -7.42542823e-03,\n          -2.47512252e-03,   2.47512252e-03,   7.42542823e-03,\n           1.23759159e-02,   1.73267069e-02,   2.22779226e-02,\n           2.72296845e-02,   3.21821142e-02,   3.71353333e-02,\n           4.20894637e-02,   4.70446274e-02,   5.20009464e-02,\n           5.69585432e-02,   6.19175402e-02,   6.68780605e-02,\n           7.18402269e-02,   7.68041629e-02,   8.17699921e-02,\n           8.67378386e-02,   9.17078267e-02,   9.66800810e-02,\n           1.01654727e-01,   1.06631890e-01,   1.11611695e-01,\n           1.16594270e-01,   1.21579741e-01,   1.26568236e-01,\n           1.31559883e-01,   1.36554810e-01,   1.41553146e-01,\n           1.46555021e-01,   1.51560566e-01,   1.56569910e-01,\n           1.61583187e-01,   1.66600528e-01,   1.71622067e-01,\n           1.76647937e-01,   1.81678273e-01,   1.86713211e-01,\n           1.91752886e-01,   1.96797436e-01,   2.01846999e-01,\n           2.06901715e-01,   2.11961722e-01,   2.17027162e-01,\n           2.22098177e-01,   2.27174909e-01,   2.32257504e-01,\n           2.37346105e-01,   2.42440860e-01,   2.47541915e-01,\n           2.52649420e-01,   2.57763524e-01,   2.62884379e-01,\n           2.68012137e-01,   2.73146951e-01,   2.78288978e-01,\n           2.83438373e-01,   2.88595295e-01,   2.93759903e-01,\n           2.98932359e-01,   3.04112825e-01,   3.09301466e-01,\n           3.14498447e-01,   3.19703936e-01,   3.24918102e-01,\n           3.30141118e-01,   3.35373155e-01,   3.40614389e-01,\n           3.45864997e-01,   3.51125157e-01,   3.56395050e-01,\n           3.61674861e-01,   3.66964772e-01,   3.72264973e-01,\n           3.77575652e-01,   3.82897001e-01,   3.88229215e-01,\n           3.93572490e-01,   3.98927026e-01,   4.04293024e-01,\n           4.09670688e-01,   4.15060226e-01,   4.20461848e-01,\n           4.25875766e-01,   4.31302195e-01,   4.36741354e-01,\n           4.42193465e-01,   4.47658752e-01,   4.53137444e-01,\n           4.58629771e-01,   4.64135967e-01,   4.69656272e-01,\n           4.75190926e-01,   4.80740175e-01,   4.86304268e-01,\n           4.91883457e-01,   4.97477999e-01,   5.03088156e-01,\n           5.08714191e-01,   5.14356375e-01,   5.20014981e-01,\n           5.25690287e-01,   5.31382576e-01,   5.37092135e-01,\n           5.42819257e-01,   5.48564239e-01,   5.54327383e-01,\n           5.60108998e-01,   5.65909397e-01,   5.71728899e-01,\n           5.77567828e-01,   5.83426515e-01,   5.89305296e-01,\n           5.95204515e-01,   6.01124520e-01,   6.07065669e-01,\n           6.13028323e-01,   6.19012852e-01,   6.25019633e-01,\n           6.31049052e-01,   6.37101499e-01,   6.43177375e-01,\n           6.49277088e-01,   6.55401055e-01,   6.61549701e-01,\n           6.67723460e-01,   6.73922775e-01,   6.80148098e-01,\n           6.86399893e-01,   6.92678632e-01,   6.98984797e-01,\n           7.05318883e-01,   7.11681394e-01,   7.18072847e-01,\n           7.24493769e-01,   7.30944700e-01,   7.37426194e-01,\n           7.43938816e-01,   7.50483145e-01,   7.57059776e-01,\n           7.63669315e-01,   7.70312386e-01,   7.76989626e-01,\n           7.83701690e-01,   7.90449248e-01,   7.97232988e-01,\n           8.04053616e-01,   8.10911857e-01,   8.17808453e-01,\n           8.24744168e-01,   8.31719785e-01,   8.38736110e-01,\n           8.45793969e-01,   8.52894215e-01,   8.60037720e-01,\n           8.67225385e-01,   8.74458134e-01,   8.81736921e-01,\n           8.89062726e-01,   8.96436557e-01,   9.03859457e-01,\n           9.11332495e-01,   9.18856778e-01,   9.26433446e-01,\n           9.34063672e-01,   9.41748672e-01,   9.49489697e-01,\n           9.57288042e-01,   9.65145042e-01,   9.73062080e-01,\n           9.81040583e-01,   9.89082030e-01,   9.97187950e-01,\n           1.00535993e+00,   1.01359960e+00,   1.02190867e+00,\n           1.03028890e+00,   1.03874212e+00,   1.04727022e+00,\n           1.05587517e+00,   1.06455903e+00,   1.07332392e+00,\n           1.08217204e+00,   1.09110572e+00,   1.10012733e+00,\n           1.10923938e+00,   1.11844448e+00,   1.12774533e+00,\n           1.13714478e+00,   1.14664578e+00,   1.15625143e+00,\n           1.16596497e+00,   1.17578979e+00,   1.18572943e+00,\n           1.19578762e+00,   1.20596826e+00,   1.21627546e+00,\n           1.22671351e+00,   1.23728696e+00,   1.24800057e+00,\n           1.25885938e+00,   1.26986869e+00,   1.28103411e+00,\n           1.29236155e+00,   1.30385728e+00,   1.31552796e+00,\n           1.32738062e+00,   1.33942275e+00,   1.35166231e+00,\n           1.36410778e+00,   1.37676820e+00,   1.38965322e+00,\n           1.40277318e+00,   1.41613915e+00,   1.42976302e+00,\n           1.44365756e+00,   1.45783653e+00,   1.47231481e+00,\n           1.48710847e+00,   1.50223493e+00,   1.51771316e+00,\n           1.53356377e+00,   1.54980933e+00,   1.56647453e+00,\n           1.58358651e+00,   1.60117517e+00,   1.61927361e+00,\n           1.63791855e+00,   1.65715093e+00,   1.67701655e+00,\n           1.69756695e+00,   1.71886034e+00,   1.74096288e+00,\n           1.76395019e+00,   1.78790928e+00,   1.81294098e+00,\n           1.83916307e+00,   1.86671438e+00,   1.89576017e+00,\n           1.92649942e+00,   1.95917475e+00,   1.99408648e+00,\n           2.03161265e+00,   2.07223893e+00,   2.11660431e+00,\n           2.16557440e+00,   2.22036495e+00,   2.28276382e+00,\n           2.35556494e+00,   2.44351800e+00,   2.55577619e+00,\n           2.71411028e+00,   2.99573567e+00]),\n  array([ -1.55794610e+01,  -1.06109893e+01,  -1.04487027e+01,\n          -1.03113730e+01,  -7.83300008e+00,  -7.57647773e+00,\n          -7.20017588e+00,  -7.07771522e+00,  -6.94308350e+00,\n          -6.92593282e+00,  -6.86557584e+00,  -6.78790318e+00,\n          -6.69254951e+00,  -6.67461484e+00,  -6.63742401e+00,\n          -6.61480679e+00,  -6.48492755e+00,  -6.44501726e+00,\n          -6.41972222e+00,  -6.28704097e+00,  -6.16933235e+00,\n          -6.15461066e+00,  -6.13407332e+00,  -6.11998048e+00,\n          -6.04564780e+00,  -6.00821269e+00,  -5.97325183e+00,\n          -5.84759861e+00,  -5.82635521e+00,  -5.71732164e+00,\n          -5.54915396e+00,  -5.52342294e+00,  -5.47488389e+00,\n          -5.44913647e+00,  -5.41597825e+00,  -5.40283795e+00,\n          -5.35997992e+00,  -5.35994642e+00,  -5.29132150e+00,\n          -5.24511052e+00,  -5.19709480e+00,  -5.19189704e+00,\n          -5.15412919e+00,  -5.12999168e+00,  -5.01099424e+00,\n          -5.00151500e+00,  -4.93602979e+00,  -4.91755469e+00,\n          -4.91674397e+00,  -4.89129701e+00,  -4.88949211e+00,\n          -4.82575267e+00,  -4.78429024e+00,  -4.73938379e+00,\n          -4.72735376e+00,  -4.69282707e+00,  -4.67833186e+00,\n          -4.64086508e+00,  -4.60387482e+00,  -4.57541577e+00,\n          -4.56645496e+00,  -4.54203283e+00,  -4.52127354e+00,\n          -4.50725436e+00,  -4.49454145e+00,  -4.47985184e+00,\n          -4.35647433e+00,  -4.34343769e+00,  -4.23926602e+00,\n          -4.21307203e+00,  -4.20079737e+00,  -4.12983844e+00,\n          -4.11386352e+00,  -4.08668003e+00,  -4.03123608e+00,\n          -3.99582660e+00,  -3.95002201e+00,  -3.94079584e+00,\n          -3.93374181e+00,  -3.92620066e+00,  -3.91516860e+00,\n          -3.88485442e+00,  -3.84518524e+00,  -3.83465914e+00,\n          -3.82835689e+00,  -3.80610125e+00,  -3.72934247e+00,\n          -3.72652691e+00,  -3.71110647e+00,  -3.70241209e+00,\n          -3.69685664e+00,  -3.66764235e+00,  -3.64446671e+00,\n          -3.63277547e+00,  -3.57064813e+00,  -3.55900412e+00,\n          -3.50752251e+00,  -3.47621248e+00,  -3.44211691e+00,\n          -3.42986060e+00,  -3.42444386e+00,  -3.41860458e+00,\n          -3.41503231e+00,  -3.40034494e+00,  -3.37743546e+00,\n          -3.33038218e+00,  -3.30749026e+00,  -3.29388439e+00,\n          -3.25609561e+00,  -3.22573568e+00,  -3.16750301e+00,\n          -3.09734716e+00,  -3.08238543e+00,  -3.04088054e+00,\n          -2.94823519e+00,  -2.90852699e+00,  -2.89662601e+00,\n          -2.89292932e+00,  -2.88766667e+00,  -2.84791346e+00,\n          -2.83046343e+00,  -2.80150945e+00,  -2.79765427e+00,\n          -2.76975577e+00,  -2.73834861e+00,  -2.73687139e+00,\n          -2.72985456e+00,  -2.71297469e+00,  -2.70597451e+00,\n          -2.70039379e+00,  -2.68970854e+00,  -2.65853521e+00,\n          -2.65271013e+00,  -2.62803874e+00,  -2.61513625e+00,\n          -2.60326834e+00,  -2.59091112e+00,  -2.57076758e+00,\n          -2.56106095e+00,  -2.50881381e+00,  -2.48108106e+00,\n          -2.47392951e+00,  -2.47255605e+00,  -2.46441773e+00,\n          -2.46133385e+00,  -2.44615580e+00,  -2.41835359e+00,\n          -2.41141951e+00,  -2.36639271e+00,  -2.36568546e+00,\n          -2.35007844e+00,  -2.34216285e+00,  -2.27173661e+00,\n          -2.26694529e+00,  -2.26145104e+00,  -2.24893735e+00,\n          -2.22614937e+00,  -2.21101472e+00,  -2.17862521e+00,\n          -2.17432006e+00,  -2.17336772e+00,  -2.16152125e+00,\n          -2.15843485e+00,  -2.13453760e+00,  -2.13225886e+00,\n          -2.12736520e+00,  -2.12427933e+00,  -2.11123204e+00,\n          -2.11105226e+00,  -2.11022671e+00,  -2.09875684e+00,\n          -2.07709054e+00,  -2.07145523e+00,  -2.01546432e+00,\n          -2.00551341e+00,  -1.97440554e+00,  -1.92416035e+00,\n          -1.91878941e+00,  -1.87636041e+00,  -1.83224597e+00,\n          -1.80004807e+00,  -1.79311197e+00,  -1.78798090e+00,\n          -1.77869798e+00,  -1.77143049e+00,  -1.76342111e+00,\n          -1.76275612e+00,  -1.74438953e+00,  -1.74311742e+00,\n          -1.68337323e+00,  -1.68327609e+00,  -1.65306588e+00,\n          -1.59237490e+00,  -1.58615723e+00,  -1.58259372e+00,\n          -1.56843662e+00,  -1.56593919e+00,  -1.53690634e+00,\n          -1.51017111e+00,  -1.49378139e+00,  -1.48526739e+00,\n          -1.43614022e+00,  -1.42696242e+00,  -1.42071320e+00,\n          -1.40911570e+00,  -1.33536350e+00,  -1.32351225e+00,\n          -1.26658017e+00,  -1.25359323e+00,  -1.23807246e+00,\n          -1.22260592e+00,  -1.21897655e+00,  -1.20841512e+00,\n          -1.20344878e+00,  -1.19291889e+00,  -1.19241207e+00,\n          -1.19187594e+00,  -1.17882319e+00,  -1.16439137e+00,\n          -1.14518512e+00,  -1.13261729e+00,  -1.08826131e+00,\n          -1.08570454e+00,  -1.08379570e+00,  -1.01892210e+00,\n          -1.01459912e+00,  -1.01173020e+00,  -1.01157117e+00,\n          -1.00865729e+00,  -1.00349174e+00,  -9.55242174e-01,\n          -9.54023399e-01,  -9.38284433e-01,  -8.85861304e-01,\n          -8.59364673e-01,  -8.53491963e-01,  -8.36519590e-01,\n          -8.08255342e-01,  -7.99319690e-01,  -7.97697035e-01,\n          -7.84554664e-01,  -7.56778235e-01,  -7.24670996e-01,\n          -6.98556119e-01,  -6.95350660e-01,  -6.82096563e-01,\n          -6.60757096e-01,  -6.52108797e-01,  -6.44795192e-01,\n          -6.29348907e-01,  -5.58262157e-01,  -5.54230662e-01,\n          -5.20223118e-01,  -5.12708138e-01,  -4.99037441e-01,\n          -4.81214265e-01,  -4.70522032e-01,  -4.68206028e-01,\n          -4.24674174e-01,  -4.06999367e-01,  -3.77154499e-01,\n          -3.70009771e-01,  -3.49349494e-01,  -3.41798355e-01,\n          -3.41068242e-01,  -3.34249061e-01,  -3.25720195e-01,\n          -2.74941223e-01,  -2.69753352e-01,  -2.69161758e-01,\n          -2.63951546e-01,  -2.61155281e-01,  -2.42015338e-01,\n          -2.34537805e-01,  -2.25067052e-01,  -2.12602620e-01,\n          -2.07816357e-01,  -2.03085863e-01,  -1.90971317e-01,\n          -1.90643515e-01,  -1.88762404e-01,  -1.84783212e-01,\n          -1.62759507e-01,  -1.58787464e-01,  -1.19487412e-01,\n          -1.05586470e-01,  -1.04339941e-01,  -9.72074095e-02,\n          -9.23887977e-02,  -8.36673082e-02,  -7.70813834e-02,\n          -6.81637420e-02,  -6.43254889e-02,  -5.88463520e-02,\n          -4.49059486e-02,  -2.46822319e-02,  -1.98148310e-02,\n           4.79403771e-03,   1.63745433e-02,   5.14622246e-02,\n           6.02604148e-02,   6.79776135e-02,   7.04728399e-02,\n           7.97558587e-02,   8.80714949e-02,   9.35342804e-02,\n           1.01363929e-01,   1.10691396e-01,   1.19751980e-01,\n           1.26900546e-01,   1.36511091e-01,   1.85936163e-01,\n           1.86937120e-01,   1.93962076e-01,   2.08301073e-01,\n           2.42504502e-01,   2.62925428e-01,   2.65535193e-01,\n           2.68875810e-01,   3.01232056e-01,   3.30729274e-01,\n           3.41975565e-01,   3.51976378e-01,   3.83881817e-01,\n           4.34888989e-01,   4.57095495e-01,   4.81911321e-01,\n           4.86993833e-01,   5.00530508e-01,   5.20835501e-01,\n           5.90325101e-01,   5.99998256e-01,   6.01519327e-01,\n           6.04452704e-01,   6.37940962e-01,   6.58789511e-01,\n           6.64019038e-01,   6.68219322e-01,   6.85146149e-01,\n           6.96316828e-01,   7.15794308e-01,   7.16011898e-01,\n           7.17553923e-01,   7.48893611e-01,   7.55581223e-01,\n           7.94651488e-01,   8.27964625e-01,   8.38322710e-01,\n           8.44640693e-01,   8.82414962e-01,   9.04561434e-01,\n           9.06137851e-01,   9.36992356e-01,   9.48845321e-01,\n           9.53429369e-01,   9.60280317e-01,   9.79406257e-01,\n           1.01973930e+00,   1.05254651e+00,   1.06703459e+00,\n           1.07959546e+00,   1.08249686e+00,   1.08735161e+00,\n           1.10680947e+00,   1.13741171e+00,   1.15094710e+00,\n           1.17269903e+00,   1.25193175e+00,   1.27006425e+00,\n           1.29982987e+00,   1.35217066e+00,   1.42372067e+00,\n           1.49093142e+00,   1.50274195e+00,   1.50568299e+00,\n           1.52240328e+00,   1.52541964e+00,   1.71805609e+00,\n           1.77728787e+00,   1.78505843e+00,   1.79184341e+00,\n           1.92895435e+00,   2.02381163e+00,   2.11283371e+00,\n           2.12203518e+00,   2.12414319e+00,   2.16284397e+00,\n           2.19143429e+00,   2.23847757e+00,   2.25860276e+00,\n           2.27988013e+00,   2.31427389e+00,   2.33908981e+00,\n           2.35228423e+00,   2.37125477e+00,   2.41721739e+00,\n           2.43918794e+00,   2.45055902e+00,   2.57110007e+00,\n           2.57284641e+00,   2.63172583e+00,   2.63994228e+00,\n           2.65404996e+00,   2.86048275e+00,   2.88025748e+00,\n           2.89643051e+00,   2.89771215e+00,   2.91937622e+00,\n           2.92053214e+00,   2.93598966e+00,   2.99127582e+00,\n           3.07592892e+00,   3.21395396e+00,   3.33768636e+00,\n           3.40108490e+00,   3.44059952e+00,   3.45496907e+00,\n           3.47959779e+00,   3.50348256e+00,   3.51648923e+00,\n           3.54010868e+00,   3.55527668e+00,   3.56996830e+00,\n           3.65631836e+00,   3.67875712e+00,   3.75064846e+00,\n           3.82100029e+00,   3.87700453e+00,   3.88964557e+00,\n           4.00725970e+00,   4.01007101e+00,   4.02932589e+00,\n           4.12976830e+00,   4.16219056e+00,   4.18231192e+00,\n           4.22927930e+00,   4.25182997e+00,   4.27670620e+00,\n           4.28344419e+00,   4.36096886e+00,   4.41158334e+00,\n           4.44174832e+00,   4.45366533e+00,   4.48883737e+00,\n           4.64564705e+00,   4.66086590e+00,   4.68290903e+00,\n           4.69933044e+00,   4.79185945e+00,   4.80723772e+00,\n           4.83432317e+00,   4.98303461e+00,   5.07903513e+00,\n           5.10304787e+00,   5.22937377e+00,   5.29823802e+00,\n           5.32660077e+00,   5.52353515e+00,   5.65961364e+00,\n           5.68982756e+00,   5.90964935e+00,   5.93703626e+00,\n           6.09036071e+00,   6.21951965e+00,   6.23942334e+00,\n           6.36302852e+00,   6.43394368e+00,   6.47120389e+00,\n           6.48948619e+00,   6.60315192e+00,   6.70540643e+00,\n           6.81417278e+00,   7.56524420e+00,   7.66488588e+00,\n           7.67914272e+00,   7.81763620e+00,   7.91436285e+00,\n           8.03364779e+00,   8.09034488e+00,   8.14877729e+00,\n           8.25711768e+00,   8.43207267e+00,   8.68730485e+00,\n           9.15725397e+00,   9.16743798e+00,   9.43384467e+00,\n           9.62931597e+00,   1.01928354e+01,   1.04165603e+01,\n           1.11426273e+01,   1.12495174e+01,   1.12830093e+01,\n           1.22717418e+01,   1.25939884e+01,   1.27933781e+01,\n           1.28623702e+01,   1.30197887e+01,   1.32082742e+01,\n           1.32188861e+01,   1.41186828e+01,   1.53883660e+01,\n           1.62065259e+01,   1.73521284e+01,   2.39974028e+01,\n           2.50539590e+01,   2.61886501e+01])),\n (4.4568597454452563, 4.4935508980875898e-16, 0.94762914118318831))"
      ]
     },
     "execution_count": 17,
     "metadata": {},
     "output_type": "execute_result"
    },
    {
     "data": {
      "image/png": "[encoded data removed]",
      "text/plain": [
       "<matplotlib.figure.Figure at 0x7f711da48550>"
      ]
     },
     "metadata": {},
     "output_type": "display_data"
    }
   ],
   "source": [
    "# Q-Q plot\n",
    "\n",
    "from scipy.stats import probplot\n",
    "f = plt.figure()\n",
    "ax = f.add_subplot(111)\n",
    "probplot(boston.target - predictions,plot=ax)"
   ]
  },
  {
   "cell_type": "code",
   "execution_count": 20,
   "metadata": {},
   "outputs": [
    {
     "data": {
      "text/plain": [
       "21.8977792176875"
      ]
     },
     "execution_count": 20,
     "metadata": {},
     "output_type": "execute_result"
    }
   ],
   "source": [
    "# mean squared error\n",
    "def MSE(target, predictions):\n",
    "    squared_deviation = np.power(target - predictions,2)\n",
    "    return np.mean(squared_deviation)\n",
    "MSE(boston.target,predictions)"
   ]
  },
  {
   "cell_type": "code",
   "execution_count": 21,
   "metadata": {},
   "outputs": [
    {
     "data": {
      "text/plain": [
       "3.2729446379969387"
      ]
     },
     "execution_count": 21,
     "metadata": {},
     "output_type": "execute_result"
    }
   ],
   "source": [
    "#absolute deviation(MAD)\n",
    "def MAD(target,predictions):\n",
    "    absolute_deviation = np.abs(target - predictions)\n",
    "    return np.mean(absolute_deviation)\n",
    "\n",
    "MAD(boston.target,predictions)"
   ]
  },
  {
   "cell_type": "code",
   "execution_count": 27,
   "metadata": {},
   "outputs": [
    {
     "data": {
      "text/plain": [
       "array([ 1.,  1.])"
      ]
     },
     "execution_count": 27,
     "metadata": {},
     "output_type": "execute_result"
    },
    {
     "data": {
      "image/png": "[encoded data removed]",
      "text/plain": [
       "<matplotlib.figure.Figure at 0x7f711d450630>"
      ]
     },
     "metadata": {},
     "output_type": "display_data"
    }
   ],
   "source": [
    "n_bootstraps = 1000\n",
    "len_boston = len(boston.target)\n",
    "subsample_size = np.int(0.5*len_boston)\n",
    "subsample = lambda : np.random.choice(np.arange(0, len_boston),\n",
    "                                      size=subsample_size)\n",
    "coefs = np.ones(n_bootstraps)\n",
    "\n",
    "for i in range(n_bootstraps):\n",
    "    subsample_idx = subsample()\n",
    "    subsample_x = boston.data[subsample_idx]\n",
    "    subsample_y = boston.target[subsample_idx]\n",
    "    \n",
    "lr.fit(subsample_x, subsample_y)\n",
    "coefs[i] = lr.coef_[0]\n",
    "\n",
    "f = plt.figure()\n",
    "ax = f.add_subplot(111)\n",
    "ax.hist(coefs,bins=50)\n",
    "ax.set_title(\"Histogram of the lr.coef_[0].\")\n",
    "np.percentile(coefs,[2.5,97.5])"
   ]
  },
  {
   "cell_type": "code",
   "execution_count": 28,
   "metadata": {},
   "outputs": [],
   "source": [
    "from sklearn.datasets import make_regression\n",
    "reg_data, reg_target = make_regression(n_samples=2000,\n",
    "                                       n_features=3, effective_rank=2, noise=10)\n",
    "n_bootstraps = 1000\n",
    "len_data = len(reg_data)\n",
    "subsample_size = np.int(0.75*len_data)\n",
    "subsample = lambda : np.random.choice(np.arange(0,len_data),\n",
    "                                      size=subsample_size)\n",
    "coefs = np.ones((n_bootstraps,3))\n",
    "\n",
    "for i in range(n_bootstraps):\n",
    "    subsample_idex = subsample()\n",
    "    subsample_x = reg_data[subsample_idx]\n",
    "    subsample_y = reg_target[subsample_idx]\n",
    "    \n",
    "lr.fit(subsample_x, subsample_y)\n",
    "\n",
    "coefs[i][0] = lr.coef_[0]\n",
    "coefs[i][1] = lr.coef_[1]\n",
    "coefs[i][2] = lr.coef_[2]"
   ]
  },
  {
   "cell_type": "code",
   "execution_count": 34,
   "metadata": {},
   "outputs": [
    {
     "data": {
      "text/plain": [
       "array([ 0.,  0.,  0.])"
      ]
     },
     "execution_count": 34,
     "metadata": {},
     "output_type": "execute_result"
    }
   ],
   "source": [
    "#r = Ridge()\n",
    "n_bootstraps = 1000\n",
    "len_data = len(reg_data)\n",
    "subsample_size = np.int(0.75*len_data)\n",
    "subsample = lambda : np.random.choice(np.arange(0,len_data),\n",
    "                                      size=subsample_size)\n",
    "coefs_r = np.ones((n_bootstraps,3))\n",
    "np.mean(coefs - coefs_r, axis=0)\n",
    "\n",
    "np.var(coefs,axis=0)\n",
    "np.var(coefs_r,axis=0)\n"
   ]
  },
  {
   "cell_type": "code",
   "execution_count": 41,
   "metadata": {},
   "outputs": [
    {
     "name": "stdout",
     "output_type": "stream",
     "text": [
      "0.1\n0.08\n0.01\n"
     ]
    }
   ],
   "source": [
    "from sklearn.datasets import make_regression\n",
    "reg_data, reg_target = make_regression(n_samples=100,\n",
    "                                       n_features=2, effective_rank=1, noise=10)\n",
    "from sklearn.linear_model import RidgeCV\n",
    "rcv = RidgeCV(alphas=np.array([0.1,0.2,0.3,0.4]))\n",
    "rcv.fit(reg_data,reg_target)\n",
    "\n",
    "print(rcv.alpha_)\n",
    "\n",
    "rcv2 = RidgeCV(alphas=np.array([0.08,0.09,0.1,0.11,0.12]))\n",
    "rcv2.fit(reg_data, reg_target)\n",
    "print(rcv2.alpha_)\n",
    "\n",
    "alphas_to_test = np.linspace(0.01,1)\n",
    "rcv3 = RidgeCV(alphas=alphas_to_test,store_cv_values=True)\n",
    "rcv3.fit(reg_data, reg_target)\n",
    "rcv3.cv_values_.shape #(100, 50)\n",
    "\n",
    "smallest_idx = rcv3.cv_values_.mean(axis=0).argmin()\n",
    "alphas_to_test[smallest_idx]\n",
    "print(rcv3.alpha_)"
   ]
  },
  {
   "cell_type": "code",
   "execution_count": 42,
   "metadata": {},
   "outputs": [
    {
     "data": {
      "text/plain": [
       "0.37367346938775509"
      ]
     },
     "execution_count": 42,
     "metadata": {},
     "output_type": "execute_result"
    }
   ],
   "source": [
    "\n",
    "def MAD(target, predictions):\n",
    "    absolute_deviation = np.abs(target-predictions)\n",
    "    return  absolute_deviation.mean()\n",
    "\n",
    "import sklearn\n",
    "MAD = sklearn.metrics.make_scorer(MAD,greater_is_better=False)\n",
    "rcv4 = RidgeCV(alphas=alphas_to_test, store_cv_values=True,\n",
    "               scoring=MAD)\n",
    "rcv4.fit(reg_data,reg_target)\n",
    "smallest_idx = rcv4.cv_values_.mean(axis=0).argmin()\n",
    "alphas_to_test[smallest_idx]"
   ]
  },
  {
   "cell_type": "code",
   "execution_count": 43,
   "metadata": {},
   "outputs": [
    {
     "name": "stderr",
     "output_type": "stream",
     "text": [
      "/home/liu/py3venv/lib/python3.5/site-packages/ipykernel_launcher.py:10: UserWarning: With alpha=0, this algorithm does not converge well. You are advised to use the LinearRegression estimator\n  # Remove the CWD from sys.path while we load stuff.\n/home/liu/py3venv/lib/python3.5/site-packages/sklearn/linear_model/coordinate_descent.py:477: UserWarning: Coordinate descent with no regularization may lead to unexpected results and is discouraged.\n  positive)\n"
     ]
    },
    {
     "data": {
      "text/plain": [
       "500"
      ]
     },
     "execution_count": 43,
     "metadata": {},
     "output_type": "execute_result"
    }
   ],
   "source": [
    "from sklearn.datasets import make_regression\n",
    "reg_data, reg_target = make_regression(n_samples=200,\n",
    "                                       n_features=500, effective_rank=5, noise=5)\n",
    "from sklearn.linear_model import Lasso\n",
    "lasso = Lasso()\n",
    "\n",
    "lasso.fit(reg_data,reg_target)\n",
    "np.sum(lasso.coef_ != 0)\n",
    "lasso_0 = Lasso(0)\n",
    "lasso_0.fit(reg_data, reg_target)\n",
    "np.sum(lasso_0.coef_ !=0)"
   ]
  },
  {
   "cell_type": "code",
   "execution_count": 44,
   "metadata": {},
   "outputs": [
    {
     "name": "stderr",
     "output_type": "stream",
     "text": [
      "/home/liu/py3venv/lib/python3.5/site-packages/sklearn/linear_model/coordinate_descent.py:491: ConvergenceWarning: Objective did not converge. You might want to increase the number of iterations. Fitting data with very small alpha may cause precision problems.\n  ConvergenceWarning)\n"
     ]
    },
    {
     "data": {
      "text/plain": [
       "array([-0.,  0., -0.,  0., -0.])"
      ]
     },
     "execution_count": 44,
     "metadata": {},
     "output_type": "execute_result"
    }
   ],
   "source": [
    "from sklearn.linear_model import LassoCV\n",
    "lassocv = LassoCV()\n",
    "lassocv.fit(reg_data,reg_target)\n",
    "lassocv.alpha_\n",
    "print(lassocv.coef_[:5])\n",
    "print(np.sum(lassocv.coef_ != 0))\n",
    "\n",
    "mask = lassocv.coef_ != 0\n",
    "new_reg_data = reg_data[:,mask]\n",
    "print(new_reg_data.shape)"
   ]
  },
  {
   "cell_type": "code",
   "execution_count": 47,
   "metadata": {},
   "outputs": [
    {
     "data": {
      "text/plain": [
       "6.7679272036169413"
      ]
     },
     "execution_count": 47,
     "metadata": {},
     "output_type": "execute_result"
    }
   ],
   "source": [
    "from sklearn.datasets import make_regression\n",
    "reg_data, reg_target = make_regression(n_samples=200,\n",
    "                                       n_features=500, effective_rank=10, noise=2)\n",
    "\n",
    "from sklearn.linear_model import Lars\n",
    "lars = Lars(n_nonzero_coefs=10)\n",
    "lars.fit(reg_data,reg_target)\n",
    "np.sum(lars.coef_ != 0)\n",
    "\n",
    "train_n = 100\n",
    "lars_12 = Lars(n_nonzero_coefs=12)\n",
    "lars_12.fit(reg_data[:train_n],reg_target[:train_n])\n",
    "\n",
    "lars_500 = Lars()\n",
    "lars_500.fit(reg_data[:train_n],reg_target[:train_n])\n",
    "\n",
    "np.mean(np.power(reg_target[train_n:] - lars_12.predict(reg_data[train_n:]),2))\n"
   ]
  },
  {
   "cell_type": "code",
   "execution_count": 48,
   "metadata": {},
   "outputs": [
    {
     "data": {
      "text/plain": [
       "42"
      ]
     },
     "execution_count": 48,
     "metadata": {},
     "output_type": "execute_result"
    }
   ],
   "source": [
    "from sklearn.linear_model import LarsCV\n",
    "lcv = LassoCV()\n",
    "lcv.fit(reg_data, reg_target)\n",
    "np.sum(lcv.coef_ != 0)"
   ]
  },
  {
   "cell_type": "code",
   "execution_count": null,
   "metadata": {},
   "outputs": [],
   "source": []
  }
 ],
 "metadata": {
  "kernelspec": {
   "display_name": "Python 2",
   "language": "python",
   "name": "python2"
  },
  "language_info": {
   "codemirror_mode": {
    "name": "ipython",
    "version": 2
   },
   "file_extension": ".py",
   "mimetype": "text/x-python",
   "name": "python",
   "nbconvert_exporter": "python",
   "pygments_lexer": "ipython2",
   "version": "2.7.6"
  }
 },
 "nbformat": 4,
 "nbformat_minor": 0
}
