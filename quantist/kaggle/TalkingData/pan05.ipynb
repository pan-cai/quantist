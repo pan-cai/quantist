{
 "cells": [
  {
   "cell_type": "code",
   "execution_count": 46,
   "metadata": {
    "collapsed": true
   },
   "outputs": [],
   "source": [
    "# -*- coding:utf-8 -*-\n",
    "\n",
    "import pandas as pd\n",
    "import xgboost as xgb\n",
    "from sklearn import metrics\n",
    "from xgboost.sklearn import XGBClassifier\n",
    "from sklearn.model_selection import train_test_split\n",
    "import matplotlib.pyplot as plt\n",
    "\n",
    "% matplotlib inline"
   ]
  },
  {
   "cell_type": "code",
   "execution_count": 47,
   "metadata": {},
   "outputs": [],
   "source": [
    "path = '/home/liu/mysoft/pycharm/project/quantist/quantist/kaggle/TalkingData/'\n",
    "train = pd.read_csv(path + \"train.csv\", nrows=10000)\n",
    "test = pd.read_csv(path + \"test.csv\", nrows=10000)"
   ]
  },
  {
   "cell_type": "code",
   "execution_count": 48,
   "metadata": {},
   "outputs": [],
   "source": [
    "print(train.shape)\n",
    "print(train.info())"
   ]
  },
  {
   "cell_type": "code",
   "execution_count": 49,
   "metadata": {},
   "outputs": [
    {
     "name": "stdout",
     "output_type": "stream",
     "text": [
      "(10000, 7)\n<class 'pandas.core.frame.DataFrame'>\nRangeIndex: 10000 entries, 0 to 9999\nData columns (total 7 columns):\nclick_id      10000 non-null int64\nip            10000 non-null int64\napp           10000 non-null int64\ndevice        10000 non-null int64\nos            10000 non-null int64\nchannel       10000 non-null int64\nclick_time    10000 non-null object\ndtypes: int64(6), object(1)\nmemory usage: 547.0+ KB\nNone\n"
     ]
    }
   ],
   "source": [
    "print(test.shape)\n",
    "print(test.info())"
   ]
  },
  {
   "cell_type": "code",
   "execution_count": 50,
   "metadata": {},
   "outputs": [
    {
     "name": "stdout",
     "output_type": "stream",
     "text": [
      "0    0\n1    0\n2    0\nName: is_attributed, dtype: int64\n      ip  app  device  os  channel           click_time\n0  83230    3       1  13      379  2017-11-06 14:32:21\n1  17357    3       1  19      379  2017-11-06 14:33:34\n2  35810    3       1  13      379  2017-11-06 14:34:12\n       ip  app  device  os  channel           click_time\n0    5744    9       1   3      107  2017-11-10 04:00:00\n1  119901    9       1   3      466  2017-11-10 04:00:00\n2   72287   21       1  19      128  2017-11-10 04:00:00\n-----------------\n          ip  app  device  os  channel  click_time\n7389   30433   14       1  16      439    20171106\n9275  106493    3       1  19      280    20171106\n2995  112394   18       1  19      107    20171106\n"
     ]
    }
   ],
   "source": [
    "# Preprocess data\n",
    "#train_sample                 ip  app  device  os  channel click_time  attributed_time  is_attributed  \n",
    "# test          click_id      ip  app  device  os  channel click_time\n",
    "\n",
    "train_target = train['is_attributed']\n",
    "train_data = train.drop(['is_attributed', 'attributed_time'], axis=1)\n",
    "\n",
    "sub = pd.DataFrame()\n",
    "sub['click_id'] = test['click_id']\n",
    "test_data = test.drop(['click_id'], axis=1)\n",
    "\n",
    "print(train_target[:3])\n",
    "print(train_data[:3])\n",
    "print(test_data[:3])\n",
    "\n",
    "# def preprocess_time(data):\n",
    "#     # label = ['year', 'month', 'day', 'hour', 'minute']\n",
    "#     data['year'] = pd.DatetimeIndex(data['click_time']).year\n",
    "#     data['month'] = pd.DatetimeIndex(data['click_time']).month\n",
    "#     data['day'] = pd.DatetimeIndex(data['click_time']).day\n",
    "#     data['hour'] = pd.DatetimeIndex(data['click_time']).hour\n",
    "#     data['minute'] = pd.DatetimeIndex(data['click_time']).minute\n",
    "#     data = data.drop(['click_time'], axis=1, inplace=True)\n",
    "#     return data\n",
    "\n",
    "# train_data = preprocess_time(train_data)\n",
    "# test_data = preprocess_time(test_data)\n",
    "\n",
    "# train_data['year'] = pd.DatetimeIndex(train_data['click_time']).year\n",
    "# train_data['month'] = pd.DatetimeIndex(train_data['click_time']).month\n",
    "# train_data['day'] = pd.DatetimeIndex(train_data['click_time']).day\n",
    "# train_data['hour'] = pd.DatetimeIndex(train_data['click_time']).hour\n",
    "# train_data['minute'] = pd.DatetimeIndex(train_data['click_time']).minute\n",
    "\n",
    "# train_target = train_target.values\n",
    "# train_data = train_data.values\n",
    "# test_data = test_data.values\n",
    "\n",
    "def prerocess_time(df):\n",
    "    \"\"\"handling time-series data\"\"\"\n",
    "    df['click_time'] = pd.to_datetime(df['click_time']).dt.date\n",
    "    df['click_time'] = df['click_time'].apply(lambda x: x.strftime('%Y%m%d')).astype(int)\n",
    "    return df\n",
    "train_data = prerocess_time(train_data)\n",
    "test_data = prerocess_time(test_data)\n",
    "    \n",
    "X_train, X_test, y_train, y_test = train_test_split(train_data, train_target, test_size=0.2, random_state=0)\n",
    "# x1, x2, y1, y2 = train_test_split(train, y, test_size=0.1, random_state=99)\n",
    "print('-----------------')\n",
    "print(X_train[:3])"
   ]
  },
  {
   "cell_type": "code",
   "execution_count": 51,
   "metadata": {},
   "outputs": [
    {
     "name": "stdout",
     "output_type": "stream",
     "text": [
      "cvresult\n    test-error-mean  test-error-std  train-error-mean  train-error-std\n0            0.0023        0.001122           0.00230         0.000281\n1            0.0023        0.001122           0.00230         0.000281\n2            0.0023        0.001122           0.00230         0.000281\n3            0.0023        0.001122           0.00230         0.000281\n4            0.0023        0.001122           0.00230         0.000281\n5            0.0023        0.001122           0.00230         0.000281\n6            0.0023        0.001122           0.00230         0.000281\n7            0.0023        0.001122           0.00230         0.000281\n8            0.0023        0.001122           0.00230         0.000281\n9            0.0023        0.001122           0.00230         0.000281\n10           0.0023        0.001122           0.00230         0.000281\n11           0.0023        0.001122           0.00230         0.000281\n12           0.0023        0.001122           0.00230         0.000281\n13           0.0023        0.001122           0.00230         0.000281\n14           0.0023        0.001122           0.00230         0.000281\n15           0.0023        0.001122           0.00230         0.000281\n16           0.0023        0.001122           0.00230         0.000281\n17           0.0023        0.001122           0.00230         0.000281\n18           0.0023        0.001122           0.00230         0.000281\n19           0.0023        0.001122           0.00225         0.000209\n20           0.0022        0.001166           0.00220         0.000257\n------------------------------------------------------\nBest n_estimators is 21\n\n关于现在这个模型\n准确率 : 0.9977\nAUC 得分 (训练集): 0.816199\n"
     ]
    },
    {
     "data": {
      "text/plain": [
       "Text(0,0.5,'Feature Importance Score')"
      ]
     },
     "execution_count": 51,
     "metadata": {},
     "output_type": "execute_result"
    },
    {
     "data": {
      "image/png": "[encoded data removed]",
      "text/plain": [
       "<matplotlib.figure.Figure at 0x7fca9206bc88>"
      ]
     },
     "metadata": {},
     "output_type": "display_data"
    }
   ],
   "source": [
    "cv_folds=5\n",
    "early_stopping_rounds=50\n",
    "\n",
    "\n",
    "xgb1 = XGBClassifier(\n",
    "        learning_rate =0.1,\n",
    "        n_estimators=1000,\n",
    "        max_depth=5,\n",
    "        min_child_weight=1,\n",
    "        gamma=0,\n",
    "        subsample=0.8,\n",
    "        colsample_bytree=0.8,\n",
    "        objective= 'binary:logistic',\n",
    "        nthread=4,\n",
    "        scale_pos_weight=1,\n",
    "        seed=27)\n",
    "xgb_param = xgb1.get_xgb_params()\n",
    "xgtrain = xgb.DMatrix(train_data.values, label=train_target.values)\n",
    "cvresult = xgb.cv(xgb_param, xgtrain, num_boost_round=xgb1.get_params()['n_estimators'], nfold=cv_folds,\n",
    "             early_stopping_rounds=early_stopping_rounds)\n",
    "print('cvresult')\n",
    "print(cvresult)\n",
    "print('------------------------------------------------------')\n",
    "print('Best n_estimators is {0}'.format(cvresult.shape[0]))\n",
    "xgb1.set_params(n_estimators=cvresult.shape[0])\n",
    "xgb1.fit(train_data, train_target,eval_metric='auc')\n",
    "\n",
    "#对训练集预测\n",
    "dtrain_predictions = xgb1.predict(train_data)\n",
    "dtrain_predprob = xgb1.predict_proba(train_data)[:,1]\n",
    "    \n",
    "#输出模型的一些结果\n",
    "print(\"\\n关于现在这个模型\")\n",
    "print(\"准确率 : %.4g\" % metrics.accuracy_score(train_target.values, dtrain_predictions))\n",
    "print(\"AUC 得分 (训练集): %f\" % metrics.roc_auc_score(train_target, dtrain_predprob))\n",
    "            \n",
    "feat_imp = pd.Series(xgb1.booster().get_fscore()).sort_values(ascending=False)\n",
    "feat_imp.plot(kind='bar', title='Feature Importances')\n",
    "plt.ylabel('Feature Importance Score')\n",
    "        \n"
   ]
  },
  {
   "cell_type": "code",
   "execution_count": 59,
   "metadata": {},
   "outputs": [
    {
     "name": "stdout",
     "output_type": "stream",
     "text": [
      "   click_id  is_attributed\n0         0              0\n1         1              0\n2         2              0\n-----------------------------------\n<class 'pandas.core.frame.DataFrame'>\n-----------------------------------\n          click_id  is_attributed\ncount  10000.00000        10000.0\nmean    4999.50000            0.0\nstd     2886.89568            0.0\nmin        0.00000            0.0\n25%     2499.75000            0.0\n50%     4999.50000            0.0\n75%     7499.25000            0.0\nmax     9999.00000            0.0\n-----------------------------------\n"
     ]
    }
   ],
   "source": [
    "# xgtest = xgb.DMatrix(test_data.values)\n",
    "sub['is_attributed'] = xgb1.predict(test_data, ntree_limit=21)\n",
    "print(sub[:3])\n",
    "print('-----------------------------------')\n",
    "print(type(sub))\n",
    "print('-----------------------------------')\n",
    "print(sub.describe())\n",
    "print('-----------------------------------')\n",
    "sub.to_csv(path + 'pan05.csv', index=False)\n",
    "# -rw-rw-r-- 1 liu liu  68K  3月 11 09:38 pan05.csv\n"
   ]
  },
  {
   "cell_type": "code",
   "execution_count": null,
   "metadata": {},
   "outputs": [],
   "source": []
  }
 ],
 "metadata": {
  "kernelspec": {
   "display_name": "Python 2",
   "language": "python",
   "name": "python2"
  },
  "language_info": {
   "codemirror_mode": {
    "name": "ipython",
    "version": 2
   },
   "file_extension": ".py",
   "mimetype": "text/x-python",
   "name": "python",
   "nbconvert_exporter": "python",
   "pygments_lexer": "ipython2",
   "version": "2.7.6"
  }
 },
 "nbformat": 4,
 "nbformat_minor": 0
}
