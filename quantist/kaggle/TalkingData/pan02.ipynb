{
 "cells": [
  {
   "cell_type": "code",
   "execution_count": 2,
   "metadata": {
    "collapsed": true
   },
   "outputs": [
    {
     "name": "stderr",
     "output_type": "stream",
     "text": [
      "/home/liu/py3venv/lib/python3.5/site-packages/sklearn/cross_validation.py:41: DeprecationWarning: This module was deprecated in version 0.18 in favor of the model_selection module into which all the refactored classes and functions are moved. Also note that the interface of the new CV iterators are different from that of this module. This module will be removed in 0.20.\n  \"This module will be removed in 0.20.\", DeprecationWarning)\n/home/liu/py3venv/lib/python3.5/site-packages/sklearn/grid_search.py:42: DeprecationWarning: This module was deprecated in version 0.18 in favor of the model_selection module into which all the refactored classes and functions are moved. This module will be removed in 0.20.\n  DeprecationWarning)\n"
     ]
    }
   ],
   "source": [
    "# -*- coding:utf-8 -*-\n",
    "\n",
    "import pandas as pd\n",
    "import numpy as np\n",
    "import matplotlib.pyplot as plt\n",
    "import xgboost as xgb\n",
    "from sklearn import cross_validation\n",
    "from sklearn import metrics\n",
    "from xgboost.sklearn import XGBClassifier\n",
    "from sklearn.grid_search import GridSearchCV\n",
    "\n",
    "% matplotlib inline"
   ]
  },
  {
   "cell_type": "code",
   "execution_count": 3,
   "metadata": {},
   "outputs": [],
   "source": [
    "path = '/home/liu/mysoft/pycharm/project/quantist/quantist/kaggle/TalkingData/'"
   ]
  },
  {
   "cell_type": "code",
   "execution_count": 4,
   "metadata": {},
   "outputs": [],
   "source": [
    "# # Look at train\n",
    "# train = pd.read_csv(path + \"train.csv\", nrows=10000)\n",
    "# print(train.head())\n",
    "# print(train.describe())\n",
    "# print(train.info())"
   ]
  },
  {
   "cell_type": "code",
   "execution_count": 7,
   "metadata": {},
   "outputs": [
    {
     "name": "stdout",
     "output_type": "stream",
     "text": [
      "   click_id      ip  app  device  os  channel           click_time\n0         0    5744    9       1   3      107  2017-11-10 04:00:00\n1         1  119901    9       1   3      466  2017-11-10 04:00:00\n2         2   72287   21       1  19      128  2017-11-10 04:00:00\n3         3   78477   15       1  13      111  2017-11-10 04:00:00\n4         4  123080   12       1  13      328  2017-11-10 04:00:00\n"
     ]
    }
   ],
   "source": [
    "# Look at test\n",
    "test = pd.read_csv(path + \"test.csv\")\n",
    "print(test.head())"
   ]
  },
  {
   "cell_type": "code",
   "execution_count": 9,
   "metadata": {},
   "outputs": [],
   "source": [
    "# Look at sample_submission\n",
    "\n",
    "# sample_submission = pd.read_csv(path + \"sample_submission.csv\")\n",
    "# print(sample_submission.head())"
   ]
  },
  {
   "cell_type": "code",
   "execution_count": 10,
   "metadata": {},
   "outputs": [
    {
     "name": "stdout",
     "output_type": "stream",
     "text": [
      "       ip  app  device  os  channel           click_time attributed_time  \\\n0   87540   12       1  13      497  2017-11-07 09:30:38             NaN   \n1  105560   25       1  17      259  2017-11-07 13:40:27             NaN   \n2  101424   12       1  19      212  2017-11-07 18:05:24             NaN   \n3   94584   13       1  13      477  2017-11-07 04:58:08             NaN   \n4   68413   12       1   1      178  2017-11-09 09:00:09             NaN   \n\n   is_attributed  \n0              0  \n1              0  \n2              0  \n3              0  \n4              0  \n"
     ]
    }
   ],
   "source": [
    "# Look at sample_train_sample \n",
    "\n",
    "train_sample = pd.read_csv(path + \"train_sample.csv\")\n",
    "print(train_sample.head())"
   ]
  },
  {
   "cell_type": "code",
   "execution_count": 10,
   "metadata": {},
   "outputs": [],
   "source": [
    "# print(train.describe())\n",
    "# print(train.info())"
   ]
  },
  {
   "cell_type": "code",
   "execution_count": 12,
   "metadata": {},
   "outputs": [
    {
     "name": "stdout",
     "output_type": "stream",
     "text": [
      "           click_id            ip           app        device            os  \\\ncount  1.879047e+07  1.879047e+07  1.879047e+07  1.879047e+07  1.879047e+07   \nmean   9.395234e+06  6.306921e+04  1.221480e+01  1.730513e+00  1.873312e+01   \nstd    5.424341e+06  3.688597e+04  1.164924e+01  2.597038e+01  1.135059e+01   \nmin    0.000000e+00  0.000000e+00  0.000000e+00  0.000000e+00  0.000000e+00   \n25%    4.697617e+06  3.155800e+04  3.000000e+00  1.000000e+00  1.300000e+01   \n50%    9.395234e+06  6.393600e+04  1.200000e+01  1.000000e+00  1.800000e+01   \n75%    1.409285e+07  9.531600e+04  1.800000e+01  1.000000e+00  1.900000e+01   \nmax    1.879047e+07  1.264130e+05  5.210000e+02  3.031000e+03  6.040000e+02   \n\n            channel  \ncount  1.879047e+07  \nmean   2.648059e+02  \nstd    1.355254e+02  \nmin    0.000000e+00  \n25%    1.350000e+02  \n50%    2.360000e+02  \n75%    4.010000e+02  \nmax    4.980000e+02  \n<class 'pandas.core.frame.DataFrame'>\nRangeIndex: 18790469 entries, 0 to 18790468\nData columns (total 7 columns):\nclick_id      int64\nip            int64\napp           int64\ndevice        int64\nos            int64\nchannel       int64\nclick_time    object\ndtypes: int64(6), object(1)\nmemory usage: 1003.5+ MB\nNone\n"
     ]
    },
    {
     "name": "stdout",
     "output_type": "stream",
     "text": [
      "           click_id            ip           app        device            os  \\\ncount  1.879047e+07  1.879047e+07  1.879047e+07  1.879047e+07  1.879047e+07   \nmean   9.395234e+06  6.306921e+04  1.221480e+01  1.730513e+00  1.873312e+01   \nstd    5.424341e+06  3.688597e+04  1.164924e+01  2.597038e+01  1.135059e+01   \nmin    0.000000e+00  0.000000e+00  0.000000e+00  0.000000e+00  0.000000e+00   \n25%    4.697617e+06  3.155800e+04  3.000000e+00  1.000000e+00  1.300000e+01   \n50%    9.395234e+06  6.393600e+04  1.200000e+01  1.000000e+00  1.800000e+01   \n75%    1.409285e+07  9.531600e+04  1.800000e+01  1.000000e+00  1.900000e+01   \nmax    1.879047e+07  1.264130e+05  5.210000e+02  3.031000e+03  6.040000e+02   \n\n            channel  \ncount  1.879047e+07  \nmean   2.648059e+02  \nstd    1.355254e+02  \nmin    0.000000e+00  \n25%    1.350000e+02  \n50%    2.360000e+02  \n75%    4.010000e+02  \nmax    4.980000e+02  \n<class 'pandas.core.frame.DataFrame'>\nRangeIndex: 18790469 entries, 0 to 18790468\nData columns (total 7 columns):\nclick_id      int64\nip            int64\napp           int64\ndevice        int64\nos            int64\nchannel       int64\nclick_time    object\ndtypes: int64(6), object(1)\nmemory usage: 1003.5+ MB\nNone\n"
     ]
    }
   ],
   "source": [
    "# print(test.describe())\n",
    "# print(test.info())"
   ]
  },
  {
   "cell_type": "code",
   "execution_count": 13,
   "metadata": {},
   "outputs": [],
   "source": [
    "# print(sample_submission.describe())\n",
    "# print(sample_submission.info())"
   ]
  },
  {
   "cell_type": "code",
   "execution_count": 14,
   "metadata": {},
   "outputs": [
    {
     "name": "stdout",
     "output_type": "stream",
     "text": [
      "                  ip           app         device             os  \\\ncount  100000.000000  100000.00000  100000.000000  100000.000000   \nmean    91255.879670      12.04788      21.771250      22.818280   \nstd     69835.553661      14.94150     259.667767      55.943136   \nmin         9.000000       1.00000       0.000000       0.000000   \n25%     40552.000000       3.00000       1.000000      13.000000   \n50%     79827.000000      12.00000       1.000000      18.000000   \n75%    118252.000000      15.00000       1.000000      19.000000   \nmax    364757.000000     551.00000    3867.000000     866.000000   \n\n             channel  is_attributed  \ncount  100000.000000  100000.000000  \nmean      268.832460       0.002270  \nstd       129.724248       0.047591  \nmin         3.000000       0.000000  \n25%       145.000000       0.000000  \n50%       258.000000       0.000000  \n75%       379.000000       0.000000  \nmax       498.000000       1.000000  \n<class 'pandas.core.frame.DataFrame'>\nRangeIndex: 100000 entries, 0 to 99999\nData columns (total 8 columns):\nip                 100000 non-null int64\napp                100000 non-null int64\ndevice             100000 non-null int64\nos                 100000 non-null int64\nchannel            100000 non-null int64\nclick_time         100000 non-null object\nattributed_time    227 non-null object\nis_attributed      100000 non-null int64\ndtypes: int64(6), object(2)\nmemory usage: 6.1+ MB\nNone\n"
     ]
    }
   ],
   "source": [
    "# print(train_sample.describe())\n",
    "# print(train_sample.info())"
   ]
  },
  {
   "cell_type": "code",
   "execution_count": 15,
   "metadata": {},
   "outputs": [
    {
     "name": "stdout",
     "output_type": "stream",
     "text": [
      "       ip  app  device  os  channel           click_time attributed_time  \\\n0   87540   12       1  13      497  2017-11-07 09:30:38             NaN   \n1  105560   25       1  17      259  2017-11-07 13:40:27             NaN   \n2  101424   12       1  19      212  2017-11-07 18:05:24             NaN   \n\n   is_attributed  year  month  day  hour  minute  second  \n0              0  2017     11    7     9      30      38  \n1              0  2017     11    7    13      40      27  \n2              0  2017     11    7    18       5      24  \n"
     ]
    }
   ],
   "source": [
    "# Preprocessing the train_sample\n",
    "\n",
    "# # 把月、日、和 小时单独拎出来，放到3列中\n",
    "# df_train['month'] = pd.DatetimeIndex(df_train.datetime).month\n",
    "# df_train['day'] = pd.DatetimeIndex(df_train.datetime).dayofweek\n",
    "# df_train['hour'] = pd.DatetimeIndex(df_train.datetime).hour\n",
    "# \n",
    "# dummies_Cabin = pd.get_dummies(data_train['Cabin'], prefix= 'Cabin')\n",
    "# \n",
    "# dummies_Embarked = pd.get_dummies(data_train['Embarked'], prefix= 'Embarked')\n",
    "# \n",
    "# dummies_Sex = pd.get_dummies(data_train['Sex'], prefix= 'Sex')\n",
    "# \n",
    "# dummies_Pclass = pd.get_dummies(data_train['Pclass'], prefix= 'Pclass')\n",
    "# \n",
    "# df = pd.concat([data_train, dummies_Cabin, dummies_Embarked, dummies_Sex, dummies_Pclass], axis=1)\n",
    "# df.drop(['Pclass', 'Name', 'Sex', 'Ticket', 'Cabin', 'Embarked'], axis=1, inplace=True)\n",
    "# df\n",
    "\n",
    "#        ip  app  device  os  channel           click_time attributed_time  \\\n",
    "# 0   83230    3       1  13      379  2017-11-06 14:32:21             NaN  \n",
    "# Preprocessing click_time 2017-11-06 14:32:21\n",
    "\n",
    "# train_sample['year'] = pd.DatetimeIndex(train_sample.click_time).year\n",
    "# train_sample['month'] = pd.DatetimeIndex(train_sample.click_time).month\n",
    "# train_sample['day'] = pd.DatetimeIndex(train_sample.click_time).day\n",
    "# train_sample['hour'] = pd.DatetimeIndex(train_sample.click_time).hour\n",
    "# train_sample['minute'] = pd.DatetimeIndex(train_sample.click_time).minute\n",
    "# train_sample['seconds'] = pd.DatetimeIndex(train_sample.click_time).seconds\n",
    "\n",
    "# print(train_sample[:3])"
   ]
  },
  {
   "cell_type": "code",
   "execution_count": 16,
   "metadata": {},
   "outputs": [],
   "source": [
    ""
   ]
  },
  {
   "cell_type": "code",
   "execution_count": 16,
   "metadata": {},
   "outputs": [],
   "source": []
  },
  {
   "cell_type": "code",
   "execution_count": 16,
   "metadata": {},
   "outputs": [],
   "source": []
  },
  {
   "cell_type": "code",
   "execution_count": 16,
   "metadata": {},
   "outputs": [],
   "source": []
  },
  {
   "cell_type": "code",
   "execution_count": 16,
   "metadata": {},
   "outputs": [
    {
     "data": {
      "text/plain": [
       "0    99773\n1      227\nName: is_attributed, dtype: int64"
      ]
     },
     "execution_count": 16,
     "metadata": {},
     "output_type": "execute_result"
    }
   ],
   "source": [
    "# train_sample['is_attributed'].value_counts()"
   ]
  },
  {
   "cell_type": "code",
   "execution_count": 19,
   "metadata": {},
   "outputs": [],
   "source": [
    "# train['is_attributed'].value_counts()"
   ]
  },
  {
   "cell_type": "code",
   "execution_count": 12,
   "metadata": {},
   "outputs": [
    {
     "name": "stdout",
     "output_type": "stream",
     "text": [
      "Index(['click_id', 'ip', 'app', 'device', 'os', 'channel', 'click_time'], dtype='object')\n"
     ]
    },
    {
     "name": "stdout",
     "output_type": "stream",
     "text": [
      "   app  channel  device      ip\n0    9      107       1    5744\n1    9      466       1  119901\n2   21      128       1   72287\n"
     ]
    }
   ],
   "source": [
    "# Test\n",
    "\"\"\"\n",
    "   click_id      ip  app  device  os  channel           click_time\n",
    "0         0    5744    9       1   3      107  2017-11-10 04:00:00\n",
    "\"\"\"\n",
    "# train_sample\n",
    "\"\"\"\n",
    "       ip  app  device  os  channel           click_time attributed_time  is_attributed\n",
    "0   87540   12       1  13      497  2017-11-07 09:30:38             NaN   0\n",
    "\"\"\"\n",
    "# IDcol = 'attributed_time'\n",
    "# click_time = 'click_time'\n",
    "\n",
    "# train_sample = [x for x in test.columns if x not in [is_attributed, attributed_time, click_time]]\n",
    "# test_sample = [x for x in test.columns if x not in ['click_id', 'click_time']]\n",
    "# test_sample = [[test['ip'], test['app'], test['device'], test['channel']]]\n",
    "print(test.columns)\n",
    "# test_sample = test.drop(['click_id'], axis = 1)\n",
    "temp_dict = {'ip':test['ip'], 'app':test['app'],'device':test['device'], 'channel':test['channel']}\n",
    "test_sample = pd.DataFrame(temp_dict)\n",
    "print(test_sample[:3])"
   ]
  },
  {
   "cell_type": "code",
   "execution_count": 14,
   "metadata": {},
   "outputs": [],
   "source": [
    "\n",
    "\n",
    "target = 'is_attributed'\n",
    "# IDcol = 'ID'\n",
    "IDcol = 'attributed_time'\n",
    "click_time = 'click_time'\n",
    "click_id = 'click_id'\n"
   ]
  },
  {
   "cell_type": "code",
   "execution_count": 15,
   "metadata": {},
   "outputs": [],
   "source": [
    "\n",
    "\n",
    "# predictors = [x for x in train_sample.columns if x not in [target, IDcol, click_time, click_id]]\n",
    "def modelfit(alg, dtrain, dtest, predictors,useTrainCV=True, cv_folds=5, early_stopping_rounds=50):\n",
    "\n",
    "    if useTrainCV:\n",
    "        xgb_param = alg.get_xgb_params()\n",
    "        xgtrain = xgb.DMatrix(dtrain[predictors].values, label=dtrain[target].values)\n",
    "        xgtest = xgb.DMatrix(dtest[predictors].values)\n",
    "        cvresult = xgb.cv(xgb_param, xgtrain, num_boost_round=alg.get_params()['n_estimators'], nfold=cv_folds,\n",
    "             early_stopping_rounds=early_stopping_rounds)\n",
    "        alg.set_params(n_estimators=cvresult.shape[0])\n",
    "    \n",
    "    #建模\n",
    "    alg.fit(dtrain[predictors], dtrain[target],eval_metric='auc')\n",
    "        \n",
    "    #对训练集预测\n",
    "    dtrain_predictions = alg.predict(dtrain[predictors])\n",
    "    dtrain_predprob = alg.predict_proba(dtrain[predictors])[:,1]\n",
    "        \n",
    "    #输出模型的一些结果\n",
    "    print(\"\\n关于现在这个模型\")\n",
    "    print(\"准确率 : %.4g\" % metrics.accuracy_score(dtrain[target].values, dtrain_predictions))\n",
    "    print(\"AUC 得分 (训练集): %f\" % metrics.roc_auc_score(dtrain[target], dtrain_predprob))\n",
    "                \n",
    "    feat_imp = pd.Series(alg.booster().get_fscore()).sort_values(ascending=False)\n",
    "    feat_imp.plot(kind='bar', title='Feature Importances')\n",
    "    plt.ylabel('Feature Importance Score')\n",
    "\n"
   ]
  },
  {
   "cell_type": "code",
   "execution_count": 16,
   "metadata": {},
   "outputs": [
    {
     "name": "stdout",
     "output_type": "stream",
     "text": [
      "\n关于现在这个模型\n准确率 : 0.9985\n"
     ]
    },
    {
     "name": "stdout",
     "output_type": "stream",
     "text": [
      "AUC 得分 (训练集): 0.993478\n"
     ]
    },
    {
     "data": {
      "image/png": "[encoded data removed]",
      "text/plain": [
       "<matplotlib.figure.Figure at 0x7f67de2d5358>"
      ]
     },
     "metadata": {},
     "output_type": "display_data"
    }
   ],
   "source": [
    "predictors = [x for x in train_sample.columns if x not in [target, IDcol, click_time, click_id, 'os', 'year', 'month', 'day', 'hour', 'minute', 'second']]\n",
    "xgb1 = XGBClassifier(\n",
    "        learning_rate =0.1,\n",
    "        n_estimators=1000,\n",
    "        max_depth=5,\n",
    "        min_child_weight=1,\n",
    "        gamma=0,\n",
    "        subsample=0.8,\n",
    "        colsample_bytree=0.8,\n",
    "        objective= 'binary:logistic',\n",
    "        nthread=4,\n",
    "        scale_pos_weight=1,\n",
    "        seed=27)\n",
    "modelfit(xgb1, train_sample, test_sample, predictors)"
   ]
  },
  {
   "cell_type": "code",
   "execution_count": null,
   "metadata": {},
   "outputs": [],
   "source": []
  },
  {
   "cell_type": "code",
   "execution_count": null,
   "metadata": {},
   "outputs": [],
   "source": []
  },
  {
   "cell_type": "code",
   "execution_count": null,
   "metadata": {},
   "outputs": [],
   "source": []
  },
  {
   "cell_type": "code",
   "execution_count": null,
   "metadata": {},
   "outputs": [],
   "source": []
  },
  {
   "cell_type": "code",
   "execution_count": null,
   "metadata": {},
   "outputs": [],
   "source": []
  }
 ],
 "metadata": {
  "kernelspec": {
   "display_name": "Python 2",
   "language": "python",
   "name": "python2"
  },
  "language_info": {
   "codemirror_mode": {
    "name": "ipython",
    "version": 2
   },
   "file_extension": ".py",
   "mimetype": "text/x-python",
   "name": "python",
   "nbconvert_exporter": "python",
   "pygments_lexer": "ipython2",
   "version": "2.7.6"
  }
 },
 "nbformat": 4,
 "nbformat_minor": 0
}
