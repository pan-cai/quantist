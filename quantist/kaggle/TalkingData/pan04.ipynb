{
 "cells": [
  {
   "cell_type": "code",
   "execution_count": 3,
   "metadata": {
    "collapsed": true
   },
   "outputs": [],
   "source": [
    "# -*- coding:utf-8 -*-\n",
    "\n",
    "import pandas as pd\n",
    "import numpy as np\n",
    "import matplotlib.pyplot as plt\n",
    "import xgboost as xgb\n",
    "from sklearn import cross_validation\n",
    "from sklearn import metrics\n",
    "from xgboost.sklearn import XGBClassifier\n",
    "from sklearn.grid_search import GridSearchCV\n",
    "\n",
    "from sklearn import linear_model\n",
    "from sklearn import svm\n",
    "from sklearn.ensemble import RandomForestRegressor\n",
    "from sklearn.learning_curve import learning_curve\n",
    "from sklearn.metrics import explained_variance_score\n",
    "\n",
    "% matplotlib inline"
   ]
  },
  {
   "cell_type": "code",
   "execution_count": 3,
   "metadata": {},
   "outputs": [],
   "source": [
    "path = '/home/liu/mysoft/pycharm/project/quantist/quantist/kaggle/TalkingData/'"
   ]
  },
  {
   "cell_type": "code",
   "execution_count": 5,
   "metadata": {},
   "outputs": [],
   "source": [
    "\n",
    "# train = pd.read_csv(path + \"train.csv\", nrows=10000)\n",
    "test = pd.read_csv(path + \"test.csv\")\n",
    "train_sample = pd.read_csv(path + \"train_sample.csv\")\n",
    "# sample_submission = pd.read_csv(path + \"sample_submission.csv\")\n",
    "\n",
    "# train_sample = train_sample[:1000]\n",
    "# test = test[:1000]"
   ]
  },
  {
   "cell_type": "code",
   "execution_count": 6,
   "metadata": {},
   "outputs": [
    {
     "name": "stdout",
     "output_type": "stream",
     "text": [
      "(100000, 8)\n<class 'pandas.core.frame.DataFrame'>\nRangeIndex: 100000 entries, 0 to 99999\nData columns (total 8 columns):\nip                 100000 non-null int64\napp                100000 non-null int64\ndevice             100000 non-null int64\nos                 100000 non-null int64\nchannel            100000 non-null int64\nclick_time         100000 non-null object\nattributed_time    227 non-null object\nis_attributed      100000 non-null int64\ndtypes: int64(6), object(2)\nmemory usage: 6.1+ MB\nNone\n"
     ]
    }
   ],
   "source": [
    "print(train_sample.shape)\n",
    "print(train_sample.info())"
   ]
  },
  {
   "cell_type": "code",
   "execution_count": 7,
   "metadata": {},
   "outputs": [
    {
     "name": "stdout",
     "output_type": "stream",
     "text": [
      "(18790469, 7)\n<class 'pandas.core.frame.DataFrame'>\nRangeIndex: 18790469 entries, 0 to 18790468\nData columns (total 7 columns):\nclick_id      int64\nip            int64\napp           int64\ndevice        int64\nos            int64\nchannel       int64\nclick_time    object\ndtypes: int64(6), object(1)\nmemory usage: 1003.5+ MB\nNone\n"
     ]
    }
   ],
   "source": [
    "print(test.shape)\n",
    "print(test.info())"
   ]
  },
  {
   "cell_type": "code",
   "execution_count": 8,
   "metadata": {},
   "outputs": [],
   "source": [
    "\n",
    "train_sample['year'] = pd.DatetimeIndex(train_sample.click_time).year\n",
    "train_sample['month'] = pd.DatetimeIndex(train_sample.click_time).month\n",
    "train_sample['day'] = pd.DatetimeIndex(train_sample.click_time).day\n",
    "train_sample['hour'] = pd.DatetimeIndex(train_sample.click_time).hour\n",
    "train_sample['minute'] = pd.DatetimeIndex(train_sample.click_time).minute\n",
    "# train_sample['second'] = pd.DatetimeIndex(train_sample.click_time).second"
   ]
  },
  {
   "cell_type": "code",
   "execution_count": 9,
   "metadata": {},
   "outputs": [
    {
     "name": "stdout",
     "output_type": "stream",
     "text": [
      "       ip  app  device  os  channel  is_attributed  year  month  day  hour  \\\n0   87540   12       1  13      497              0  2017     11    7     9   \n1  105560   25       1  17      259              0  2017     11    7    13   \n2  101424   12       1  19      212              0  2017     11    7    18   \n\n   minute  \n0      30  \n1      40  \n2       5  \n"
     ]
    }
   ],
   "source": [
    "\n",
    "#train_sample                 ip  app  device  os  channel click_time  attributed_time  is_attributed  \n",
    "# test          click_id      ip  app  device  os  channel click_time\n",
    "# year, month, day ...\n",
    "train_sample = train_sample.drop(['click_time', 'attributed_time'], axis=1)\n",
    "print(train_sample[:3])"
   ]
  },
  {
   "cell_type": "code",
   "execution_count": 11,
   "metadata": {},
   "outputs": [
    {
     "name": "stdout",
     "output_type": "stream",
     "text": [
      "train_sample_data shape is (100000, 10)\ntrain_sample_data target is (100000,)\n"
     ]
    }
   ],
   "source": [
    "\n",
    "train_sample_data = train_sample.drop(['is_attributed'], axis=1).values\n",
    "train_sample_target = train_sample['is_attributed'].values\n",
    "print('train_sample_data shape is {0}'.format(train_sample_data.shape))\n",
    "print('train_sample_data target is {0}'.format(train_sample_target.shape))\n",
    "\n"
   ]
  },
  {
   "cell_type": "code",
   "execution_count": 11,
   "metadata": {},
   "outputs": [],
   "source": [
    "cv = cross_validation.ShuffleSplit(len(train_sample), n_iter=3, test_size=0.2, random_state=0)"
   ]
  },
  {
   "cell_type": "code",
   "execution_count": 14,
   "metadata": {},
   "outputs": [],
   "source": [
    "def print_metric():\n",
    "     print('train score:{0:.3f}, test score:{1:.3f}\\n'.format(\n",
    "        svc.score(train_sample_data[train], train_sample_target[train]),\n",
    "        svc.score(train_sample_data[test], train_sample_target[test])\n",
    "    ))"
   ]
  },
  {
   "cell_type": "code",
   "execution_count": 16,
   "metadata": {},
   "outputs": [
    {
     "name": "stdout",
     "output_type": "stream",
     "text": [
      "train score:0.007, test score:0.012\n\n"
     ]
    },
    {
     "name": "stdout",
     "output_type": "stream",
     "text": [
      "train score:0.009, test score:0.005\n\n"
     ]
    },
    {
     "name": "stdout",
     "output_type": "stream",
     "text": [
      "train score:0.008, test score:0.008\n\n"
     ]
    }
   ],
   "source": [
    "# Ride\n",
    "\n",
    "for train, test in cv:\n",
    "    svc = linear_model.Ridge().fit(train_sample_data[train], train_sample_target[train])\n",
    "    print_metric()"
   ]
  },
  {
   "cell_type": "code",
   "execution_count": 18,
   "metadata": {},
   "outputs": [],
   "source": [
    "# # SVM\n",
    "# \n",
    "# for train, test in cv:\n",
    "#     svc = svm.SVR(kernel='rbf', C=10, gamma=.001).fit(train_sample_data[train], train_sample_target[train])\n",
    "#     print_metric()"
   ]
  },
  {
   "cell_type": "code",
   "execution_count": 20,
   "metadata": {},
   "outputs": [
    {
     "name": "stdout",
     "output_type": "stream",
     "text": [
      "train score:0.007, test score:0.013\n\n"
     ]
    },
    {
     "name": "stdout",
     "output_type": "stream",
     "text": [
      "train score:0.009, test score:0.006\n\n"
     ]
    },
    {
     "name": "stdout",
     "output_type": "stream",
     "text": [
      "train score:0.008, test score:0.008\n\n"
     ]
    }
   ],
   "source": [
    "# RandomForestRegressor\n",
    "for train, test in cv:\n",
    "    rfr = RandomForestRegressor(n_estimators=100).fit(train_sample_data[train], train_sample_target[train])\n",
    "    print_metric()"
   ]
  },
  {
   "cell_type": "code",
   "execution_count": 21,
   "metadata": {},
   "outputs": [
    {
     "name": "stdout",
     "output_type": "stream",
     "text": [
      "r2\n"
     ]
    }
   ],
   "source": [
    "X = train_sample_data\n",
    "y = train_sample_target\n",
    "\n",
    "X_train, X_test, y_train, y_test = cross_validation.train_test_split(X, y, test_size=0.2, random_state=0)\n",
    "\n",
    "n_estimators = [{'n_estimators':[10, 100, 500]}]\n",
    "scores = ['r2']\n",
    "for score in scores:\n",
    "    print(score)\n",
    "    \n",
    "    clf = GridSearchCV(RandomForestRegressor(), n_estimators, cv=5, scoring=score)\n",
    "    clf.fit(X_train, y_train)\n",
    "    \n",
    "    #best_estimator_ returns the best estimator chosen by the search\n",
    "    print(clf.best_estimator_)\n",
    "    \n",
    "    for params, mean_score, scores in clf.grid_scores_:\n",
    "        print(\"%0.3f (+/-%0.03f) for %r\"\n",
    "              % (mean_score, scores.std() / 2, params))\n",
    "    "
   ]
  },
  {
   "cell_type": "code",
   "execution_count": null,
   "metadata": {},
   "outputs": [
    {
     "data": {
      "image/png": "[encoded data removed]",
      "text/plain": [
       "<matplotlib.figure.Figure at 0x7f9a00487860>"
      ]
     },
     "metadata": {},
     "output_type": "display_data"
    }
   ],
   "source": [
    "def plot_learning_curve(estimator, title, X, y, ylim=None, cv=None,\n",
    "                        n_jobs=1, train_sizes=np.linspace(.1, 1.0, 5)):\n",
    "    \n",
    "    plt.figure()\n",
    "    plt.title(title)\n",
    "    if ylim is not None:\n",
    "        plt.ylim(*ylim)\n",
    "    plt.xlabel(\"Training examples\")\n",
    "    plt.ylabel(\"Score\")\n",
    "    train_sizes, train_scores, test_scores = learning_curve(\n",
    "        estimator, X, y, cv=cv, n_jobs=n_jobs, train_sizes=train_sizes)\n",
    "    train_scores_mean = np.mean(train_scores, axis=1)\n",
    "    train_scores_std = np.std(train_scores, axis=1)\n",
    "    test_scores_mean = np.mean(test_scores, axis=1)\n",
    "    test_scores_std = np.std(test_scores, axis=1)\n",
    "    plt.grid()\n",
    "\n",
    "    plt.fill_between(train_sizes, train_scores_mean - train_scores_std,\n",
    "                     train_scores_mean + train_scores_std, alpha=0.1,\n",
    "                     color=\"r\")\n",
    "    plt.fill_between(train_sizes, test_scores_mean - test_scores_std,\n",
    "                     test_scores_mean + test_scores_std, alpha=0.1, color=\"g\")\n",
    "    plt.plot(train_sizes, train_scores_mean, 'o-', color=\"r\",\n",
    "             label=\"Training score\")\n",
    "    plt.plot(train_sizes, test_scores_mean, 'o-', color=\"g\",\n",
    "             label=\"Cross-validation score\")\n",
    "\n",
    "    plt.legend(loc=\"best\")\n",
    "    return plt\n",
    "\n",
    "\n",
    "title = \"Learning Curves (Random Forest, n_estimators = 100)\"\n",
    "cv = cross_validation.ShuffleSplit(train_sample_data.shape[0], n_iter=10,test_size=0.2, random_state=0)\n",
    "estimator = RandomForestRegressor(n_estimators = 100)\n",
    "plot_learning_curve(estimator, title, X, y, (0.0, 1.01), cv=cv, n_jobs=4)\n",
    "\n",
    "plt.show()"
   ]
  },
  {
   "cell_type": "code",
   "execution_count": null,
   "metadata": {},
   "outputs": [
    {
     "name": "stdout",
     "output_type": "stream",
     "text": [
      "train score: 0.838, test score: -0.120\n\n"
     ]
    },
    {
     "name": "stdout",
     "output_type": "stream",
     "text": [
      "train score: 0.881, test score: 0.000\n\n"
     ]
    },
    {
     "name": "stdout",
     "output_type": "stream",
     "text": [
      "train score: 1.000, test score: -0.010\n\n"
     ]
    },
    {
     "name": "stdout",
     "output_type": "stream",
     "text": [
      "train score: 1.000, test score: -0.010\n\n"
     ]
    },
    {
     "name": "stdout",
     "output_type": "stream",
     "text": [
      "train score: 0.835, test score: 0.000\n\n"
     ]
    },
    {
     "name": "stdout",
     "output_type": "stream",
     "text": [
      "train score: 0.850, test score: 0.000\n\n"
     ]
    },
    {
     "name": "stdout",
     "output_type": "stream",
     "text": [
      "train score: 0.839, test score: 0.000\n\n"
     ]
    },
    {
     "name": "stdout",
     "output_type": "stream",
     "text": [
      "train score: 0.855, test score: 0.000\n\n"
     ]
    },
    {
     "name": "stdout",
     "output_type": "stream",
     "text": [
      "train score: 0.860, test score: 0.000\n\n"
     ]
    },
    {
     "name": "stdout",
     "output_type": "stream",
     "text": [
      "train score: 0.840, test score: -0.005\n\n"
     ]
    }
   ],
   "source": [
    "# If overfitting\n",
    "\n",
    "for train, test in cv: \n",
    "    svc = RandomForestRegressor(n_estimators = 200, max_features=0.6, max_depth=15).fit(train_sample_data[train], train_sample_target[train])\n",
    "    print(\"train score: {0:.3f}, test score: {1:.3f}\\n\".format(\n",
    "        svc.score(train_sample_data[train], train_sample_target[train]), svc.score(train_sample_data[test], train_sample_target[test])))"
   ]
  },
  {
   "cell_type": "code",
   "execution_count": null,
   "metadata": {},
   "outputs": [
    {
     "ename": "AttributeError",
     "evalue": "'numpy.ndarray' object has no attribute 'click_time'",
     "traceback": [
      "\u001b[0;31m---------------------------------------------------------------------------\u001b[0m",
      "\u001b[0;31mAttributeError\u001b[0m                            Traceback (most recent call last)",
      "\u001b[0;32m<ipython-input-43-3842ef1e1d9d>\u001b[0m in \u001b[0;36m<module>\u001b[0;34m()\u001b[0m\n\u001b[1;32m      1\u001b[0m \u001b[0;31m# Haddle test data\u001b[0m\u001b[0;34m\u001b[0m\u001b[0;34m\u001b[0m\u001b[0m\n\u001b[1;32m      2\u001b[0m \u001b[0;34m\u001b[0m\u001b[0m\n\u001b[0;32m----> 3\u001b[0;31m \u001b[0mtest\u001b[0m\u001b[0;34m[\u001b[0m\u001b[0;34m'year'\u001b[0m\u001b[0;34m]\u001b[0m \u001b[0;34m=\u001b[0m \u001b[0mpd\u001b[0m\u001b[0;34m.\u001b[0m\u001b[0mDatetimeIndex\u001b[0m\u001b[0;34m(\u001b[0m\u001b[0mtest\u001b[0m\u001b[0;34m.\u001b[0m\u001b[0mclick_time\u001b[0m\u001b[0;34m)\u001b[0m\u001b[0;34m.\u001b[0m\u001b[0myear\u001b[0m\u001b[0;34m\u001b[0m\u001b[0m\n\u001b[0m\u001b[1;32m      4\u001b[0m \u001b[0mtest\u001b[0m\u001b[0;34m[\u001b[0m\u001b[0;34m'month'\u001b[0m\u001b[0;34m]\u001b[0m \u001b[0;34m=\u001b[0m \u001b[0mpd\u001b[0m\u001b[0;34m.\u001b[0m\u001b[0mDatetimeIndex\u001b[0m\u001b[0;34m(\u001b[0m\u001b[0mtest\u001b[0m\u001b[0;34m.\u001b[0m\u001b[0mclick_time\u001b[0m\u001b[0;34m)\u001b[0m\u001b[0;34m.\u001b[0m\u001b[0mmonth\u001b[0m\u001b[0;34m\u001b[0m\u001b[0m\n\u001b[1;32m      5\u001b[0m \u001b[0mtest\u001b[0m\u001b[0;34m[\u001b[0m\u001b[0;34m'day'\u001b[0m\u001b[0;34m]\u001b[0m \u001b[0;34m=\u001b[0m \u001b[0mpd\u001b[0m\u001b[0;34m.\u001b[0m\u001b[0mDatetimeIndex\u001b[0m\u001b[0;34m(\u001b[0m\u001b[0mtest\u001b[0m\u001b[0;34m.\u001b[0m\u001b[0mclick_time\u001b[0m\u001b[0;34m)\u001b[0m\u001b[0;34m.\u001b[0m\u001b[0mday\u001b[0m\u001b[0;34m\u001b[0m\u001b[0m\n",
      "\u001b[0;31mAttributeError\u001b[0m: 'numpy.ndarray' object has no attribute 'click_time'"
     ],
     "output_type": "error"
    }
   ],
   "source": [
    "# Haddle test data\n",
    "\n",
    "test['year'] = pd.DatetimeIndex(test.click_time).year\n",
    "test['month'] = pd.DatetimeIndex(test.click_time).month\n",
    "test['day'] = pd.DatetimeIndex(test.click_time).day\n",
    "test['hour'] = pd.DatetimeIndex(test.click_time).hour\n",
    "test['minute'] = pd.DatetimeIndex(test.click_time).minute"
   ]
  },
  {
   "cell_type": "code",
   "execution_count": null,
   "metadata": {},
   "outputs": [],
   "source": [
    "#train_sample                 ip  app  device  os  channel click_time  attributed_time  is_attributed  \n",
    "# test          click_id      ip  app  device  os  channel click_time\n",
    "# year, month, day ...\n",
    "test = test.drop(['click_id', 'click_time'], axis=1).values\n",
    "print(test.shape)\n",
    "print(test[:3])"
   ]
  },
  {
   "cell_type": "code",
   "execution_count": null,
   "metadata": {},
   "outputs": [
    {
     "ename": "ValueError",
     "evalue": "Expected 2D array, got 1D array instead:\narray=[ 993.  859.  298.  553.  672.  971.   27.  231.  306.  706.  496.  558.\n  784.  239.  578.   55.  906.  175.   14.   77.   31.  481.  310.  311.\n  883.  788.   45.  103.  760.    1.  823.  710.  614.  790.  408.  736.\n  957.  366.  918.  267.  230.  996.  635.  698.  251.  783.  819.  141.\n  316.  587.  331.  295.  262.  432.  862.  582.  272.  270.  987.  319.\n  569.  643.  142.  202.  413.  196.  264.  531.  252.  576.  738.  299.\n  740.  247.  926.  412.  389.  796.  601.  654.  261.  456.  386.  982.\n  909.  693.  236.  501.  497.  874.  452.  494.  923.  279.  638.  485.\n  568.  108.  367.  644.  785.  873.   65.  902.  317.  636.  666.  789.\n  958.  214.   97.  583.  466.  523.  255.  385.  545.  382.  489.  513.\n  780.  904.  122.  946.   60.  844.  372.  283.  939.  608.  495.  630.\n  596.  713.  753.  624.  312.    8.  529.  876.  101.  615.  520.  249.\n  278.  424.  384.  395.   54.   34.  271.   30.  403.  757.  975.  990.\n  457.  362.  860.  483.  580.  986.  688.  864.  927.  378.  320.  942.\n  351.  418.  945.  795.  145.  826.  492.  751.  240.  648.  886.  144.\n  767.  999.  467.  315.  989.  922.  717.  458.  773.  204.  834.  832.\n  435.    5.  769.  679.  722.  215.  653.  150.].\nReshape your data either using array.reshape(-1, 1) if your data has a single feature or array.reshape(1, -1) if it contains a single sample.",
     "traceback": [
      "\u001b[0;31m---------------------------------------------------------------------------\u001b[0m",
      "\u001b[0;31mValueError\u001b[0m                                Traceback (most recent call last)",
      "\u001b[0;32m<ipython-input-44-a813c5d9bb07>\u001b[0m in \u001b[0;36m<module>\u001b[0;34m()\u001b[0m\n\u001b[1;32m      3\u001b[0m \u001b[0;32mfor\u001b[0m \u001b[0mtrain\u001b[0m\u001b[0;34m,\u001b[0m \u001b[0mtest\u001b[0m \u001b[0;32min\u001b[0m \u001b[0mcv\u001b[0m\u001b[0;34m:\u001b[0m\u001b[0;34m\u001b[0m\u001b[0m\n\u001b[1;32m      4\u001b[0m     \u001b[0mrfr\u001b[0m \u001b[0;34m=\u001b[0m \u001b[0mRandomForestRegressor\u001b[0m\u001b[0;34m(\u001b[0m\u001b[0mn_estimators\u001b[0m \u001b[0;34m=\u001b[0m \u001b[0;36m200\u001b[0m\u001b[0;34m,\u001b[0m \u001b[0mmax_features\u001b[0m\u001b[0;34m=\u001b[0m\u001b[0;36m0.6\u001b[0m\u001b[0;34m,\u001b[0m \u001b[0mmax_depth\u001b[0m\u001b[0;34m=\u001b[0m\u001b[0;36m15\u001b[0m\u001b[0;34m)\u001b[0m\u001b[0;34m.\u001b[0m\u001b[0mfit\u001b[0m\u001b[0;34m(\u001b[0m\u001b[0mX\u001b[0m\u001b[0;34m,\u001b[0m \u001b[0my\u001b[0m\u001b[0;34m)\u001b[0m\u001b[0;34m\u001b[0m\u001b[0m\n\u001b[0;32m----> 5\u001b[0;31m     \u001b[0mrfr\u001b[0m\u001b[0;34m.\u001b[0m\u001b[0mpredict\u001b[0m\u001b[0;34m(\u001b[0m\u001b[0mtest\u001b[0m\u001b[0;34m)\u001b[0m\u001b[0;34m\u001b[0m\u001b[0m\n\u001b[0m\u001b[1;32m      6\u001b[0m     print(\"train score: {0:.3f}, test score: {1:.3f}\\n\".format(\n\u001b[1;32m      7\u001b[0m         svc.score(train_sample_data[train], train_sample_target[train]), svc.score(train_sample_data[test], train_sample_target[test])))\n",
      "\u001b[0;32m~/py3venv/lib/python3.5/site-packages/sklearn/ensemble/forest.py\u001b[0m in \u001b[0;36mpredict\u001b[0;34m(self, X)\u001b[0m\n\u001b[1;32m    679\u001b[0m         \u001b[0mcheck_is_fitted\u001b[0m\u001b[0;34m(\u001b[0m\u001b[0mself\u001b[0m\u001b[0;34m,\u001b[0m \u001b[0;34m'estimators_'\u001b[0m\u001b[0;34m)\u001b[0m\u001b[0;34m\u001b[0m\u001b[0m\n\u001b[1;32m    680\u001b[0m         \u001b[0;31m# Check data\u001b[0m\u001b[0;34m\u001b[0m\u001b[0;34m\u001b[0m\u001b[0m\n\u001b[0;32m--> 681\u001b[0;31m         \u001b[0mX\u001b[0m \u001b[0;34m=\u001b[0m \u001b[0mself\u001b[0m\u001b[0;34m.\u001b[0m\u001b[0m_validate_X_predict\u001b[0m\u001b[0;34m(\u001b[0m\u001b[0mX\u001b[0m\u001b[0;34m)\u001b[0m\u001b[0;34m\u001b[0m\u001b[0m\n\u001b[0m\u001b[1;32m    682\u001b[0m \u001b[0;34m\u001b[0m\u001b[0m\n\u001b[1;32m    683\u001b[0m         \u001b[0;31m# Assign chunk of trees to jobs\u001b[0m\u001b[0;34m\u001b[0m\u001b[0;34m\u001b[0m\u001b[0m\n",
      "\u001b[0;32m~/py3venv/lib/python3.5/site-packages/sklearn/ensemble/forest.py\u001b[0m in \u001b[0;36m_validate_X_predict\u001b[0;34m(self, X)\u001b[0m\n\u001b[1;32m    355\u001b[0m                                  \"call `fit` before exploiting the model.\")\n\u001b[1;32m    356\u001b[0m \u001b[0;34m\u001b[0m\u001b[0m\n\u001b[0;32m--> 357\u001b[0;31m         \u001b[0;32mreturn\u001b[0m \u001b[0mself\u001b[0m\u001b[0;34m.\u001b[0m\u001b[0mestimators_\u001b[0m\u001b[0;34m[\u001b[0m\u001b[0;36m0\u001b[0m\u001b[0;34m]\u001b[0m\u001b[0;34m.\u001b[0m\u001b[0m_validate_X_predict\u001b[0m\u001b[0;34m(\u001b[0m\u001b[0mX\u001b[0m\u001b[0;34m,\u001b[0m \u001b[0mcheck_input\u001b[0m\u001b[0;34m=\u001b[0m\u001b[0;32mTrue\u001b[0m\u001b[0;34m)\u001b[0m\u001b[0;34m\u001b[0m\u001b[0m\n\u001b[0m\u001b[1;32m    358\u001b[0m \u001b[0;34m\u001b[0m\u001b[0m\n\u001b[1;32m    359\u001b[0m     \u001b[0;34m@\u001b[0m\u001b[0mproperty\u001b[0m\u001b[0;34m\u001b[0m\u001b[0m\n",
      "\u001b[0;32m~/py3venv/lib/python3.5/site-packages/sklearn/tree/tree.py\u001b[0m in \u001b[0;36m_validate_X_predict\u001b[0;34m(self, X, check_input)\u001b[0m\n\u001b[1;32m    371\u001b[0m         \u001b[0;34m\"\"\"Validate X whenever one tries to predict, apply, predict_proba\"\"\"\u001b[0m\u001b[0;34m\u001b[0m\u001b[0m\n\u001b[1;32m    372\u001b[0m         \u001b[0;32mif\u001b[0m \u001b[0mcheck_input\u001b[0m\u001b[0;34m:\u001b[0m\u001b[0;34m\u001b[0m\u001b[0m\n\u001b[0;32m--> 373\u001b[0;31m             \u001b[0mX\u001b[0m \u001b[0;34m=\u001b[0m \u001b[0mcheck_array\u001b[0m\u001b[0;34m(\u001b[0m\u001b[0mX\u001b[0m\u001b[0;34m,\u001b[0m \u001b[0mdtype\u001b[0m\u001b[0;34m=\u001b[0m\u001b[0mDTYPE\u001b[0m\u001b[0;34m,\u001b[0m \u001b[0maccept_sparse\u001b[0m\u001b[0;34m=\u001b[0m\u001b[0;34m\"csr\"\u001b[0m\u001b[0;34m)\u001b[0m\u001b[0;34m\u001b[0m\u001b[0m\n\u001b[0m\u001b[1;32m    374\u001b[0m             if issparse(X) and (X.indices.dtype != np.intc or\n\u001b[1;32m    375\u001b[0m                                 X.indptr.dtype != np.intc):\n",
      "\u001b[0;32m~/py3venv/lib/python3.5/site-packages/sklearn/utils/validation.py\u001b[0m in \u001b[0;36mcheck_array\u001b[0;34m(array, accept_sparse, dtype, order, copy, force_all_finite, ensure_2d, allow_nd, ensure_min_samples, ensure_min_features, warn_on_dtype, estimator)\u001b[0m\n\u001b[1;32m    439\u001b[0m                     \u001b[0;34m\"Reshape your data either using array.reshape(-1, 1) if \"\u001b[0m\u001b[0;34m\u001b[0m\u001b[0m\n\u001b[1;32m    440\u001b[0m                     \u001b[0;34m\"your data has a single feature or array.reshape(1, -1) \"\u001b[0m\u001b[0;34m\u001b[0m\u001b[0m\n\u001b[0;32m--> 441\u001b[0;31m                     \"if it contains a single sample.\".format(array))\n\u001b[0m\u001b[1;32m    442\u001b[0m             \u001b[0marray\u001b[0m \u001b[0;34m=\u001b[0m \u001b[0mnp\u001b[0m\u001b[0;34m.\u001b[0m\u001b[0matleast_2d\u001b[0m\u001b[0;34m(\u001b[0m\u001b[0marray\u001b[0m\u001b[0;34m)\u001b[0m\u001b[0;34m\u001b[0m\u001b[0m\n\u001b[1;32m    443\u001b[0m             \u001b[0;31m# To ensure that array flags are maintained\u001b[0m\u001b[0;34m\u001b[0m\u001b[0;34m\u001b[0m\u001b[0m\n",
      "\u001b[0;31mValueError\u001b[0m: Expected 2D array, got 1D array instead:\narray=[ 993.  859.  298.  553.  672.  971.   27.  231.  306.  706.  496.  558.\n  784.  239.  578.   55.  906.  175.   14.   77.   31.  481.  310.  311.\n  883.  788.   45.  103.  760.    1.  823.  710.  614.  790.  408.  736.\n  957.  366.  918.  267.  230.  996.  635.  698.  251.  783.  819.  141.\n  316.  587.  331.  295.  262.  432.  862.  582.  272.  270.  987.  319.\n  569.  643.  142.  202.  413.  196.  264.  531.  252.  576.  738.  299.\n  740.  247.  926.  412.  389.  796.  601.  654.  261.  456.  386.  982.\n  909.  693.  236.  501.  497.  874.  452.  494.  923.  279.  638.  485.\n  568.  108.  367.  644.  785.  873.   65.  902.  317.  636.  666.  789.\n  958.  214.   97.  583.  466.  523.  255.  385.  545.  382.  489.  513.\n  780.  904.  122.  946.   60.  844.  372.  283.  939.  608.  495.  630.\n  596.  713.  753.  624.  312.    8.  529.  876.  101.  615.  520.  249.\n  278.  424.  384.  395.   54.   34.  271.   30.  403.  757.  975.  990.\n  457.  362.  860.  483.  580.  986.  688.  864.  927.  378.  320.  942.\n  351.  418.  945.  795.  145.  826.  492.  751.  240.  648.  886.  144.\n  767.  999.  467.  315.  989.  922.  717.  458.  773.  204.  834.  832.\n  435.    5.  769.  679.  722.  215.  653.  150.].\nReshape your data either using array.reshape(-1, 1) if your data has a single feature or array.reshape(1, -1) if it contains a single sample."
     ],
     "output_type": "error"
    }
   ],
   "source": [
    "# If overfitting\n",
    "\n",
    "for train, test in cv: \n",
    "    rfr = RandomForestRegressor(n_estimators = 200, max_features=0.6, max_depth=15).fit(X, y)\n",
    "    result = rfr.predict(test)\n",
    "    print(result[:5])\n",
    "    # print(\"train score: {0:.3f}, test score: {1:.3f}\\n\".format(\n",
    "    #     svc.score(train_sample_data[train], train_sample_target[train]), svc.score(train_sample_data[test], train_sample_target[test])))"
   ]
  },
  {
   "cell_type": "code",
   "execution_count": null,
   "metadata": {},
   "outputs": [],
   "source": []
  },
  {
   "cell_type": "code",
   "execution_count": null,
   "metadata": {},
   "outputs": [],
   "source": []
  },
  {
   "cell_type": "code",
   "execution_count": 15,
   "metadata": {},
   "outputs": [],
   "source": [
    ""
   ]
  },
  {
   "cell_type": "code",
   "execution_count": null,
   "metadata": {},
   "outputs": [
    {
     "name": "stdout",
     "output_type": "stream",
     "text": [
      "\n关于现在这个模型\n准确率 : 0.9985\n"
     ]
    },
    {
     "name": "stdout",
     "output_type": "stream",
     "text": [
      "AUC 得分 (训练集): 0.993478\n"
     ]
    },
    {
     "data": {
      "image/png": "[encoded data removed]",
      "text/plain": [
       "<matplotlib.figure.Figure at 0x7f67de2d5358>"
      ]
     },
     "metadata": {},
     "output_type": "display_data"
    }
   ],
   "source": [
    ""
   ]
  },
  {
   "cell_type": "code",
   "execution_count": null,
   "metadata": {},
   "outputs": [],
   "source": []
  },
  {
   "cell_type": "code",
   "execution_count": null,
   "metadata": {},
   "outputs": [],
   "source": []
  },
  {
   "cell_type": "code",
   "execution_count": null,
   "metadata": {},
   "outputs": [],
   "source": []
  },
  {
   "cell_type": "code",
   "execution_count": null,
   "metadata": {},
   "outputs": [],
   "source": []
  },
  {
   "cell_type": "code",
   "execution_count": null,
   "metadata": {},
   "outputs": [],
   "source": []
  }
 ],
 "metadata": {
  "kernelspec": {
   "display_name": "Python 2",
   "language": "python",
   "name": "python2"
  },
  "language_info": {
   "codemirror_mode": {
    "name": "ipython",
    "version": 2
   },
   "file_extension": ".py",
   "mimetype": "text/x-python",
   "name": "python",
   "nbconvert_exporter": "python",
   "pygments_lexer": "ipython2",
   "version": "2.7.6"
  }
 },
 "nbformat": 4,
 "nbformat_minor": 0
}
